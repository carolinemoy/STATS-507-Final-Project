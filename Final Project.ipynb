{
 "cells": [
  {
   "cell_type": "markdown",
   "id": "a487bf8c-5b26-4cd1-afd9-9b418893945f",
   "metadata": {},
   "source": [
    "# Final Project STATS 507 "
   ]
  },
  {
   "cell_type": "markdown",
   "id": "134aba15-1070-40c2-a950-38720b2e7e15",
   "metadata": {},
   "source": [
    "In this project, I will investigate political tweets data to see if there is a clear distinction between the rhetoric of Republicans versus Democrats and if there is a way to predict which party the tweeter originates from. This will be achieved through a Multi-Layer Perceptron using tools as text embeddings from Word2Vec. Through cross-validation I will find which gives the optimal parameters for the network and apply that to a test data set to see if this network is useful at predicting political party. In addition, I'll try different pooling methods and word vector lengths at the end of the file. "
   ]
  },
  {
   "cell_type": "markdown",
   "id": "06bc3720-6f48-41e2-854e-f6cc42404243",
   "metadata": {},
   "source": [
    "### Step 1: Reset/Download Preloaded Packages to Accommodate Data Pipeline"
   ]
  },
  {
   "cell_type": "markdown",
   "id": "412a4cff-64da-4792-bc07-df92c35a8fa5",
   "metadata": {},
   "source": [
    "These are the specific versions of the packages I installed to run this pipeline. Errors may show up if you have a different version of one of these packages, but I commented these out just in case you already have them installed/don't want to change the version in your computer. "
   ]
  },
  {
   "cell_type": "code",
   "execution_count": 7,
   "id": "c67f2c16-66f1-4605-b229-367620dcfebd",
   "metadata": {},
   "outputs": [],
   "source": [
    "#pip install --upgrade datasets"
   ]
  },
  {
   "cell_type": "code",
   "execution_count": 8,
   "id": "739cd098-84de-4dd8-a759-f7e681145053",
   "metadata": {},
   "outputs": [],
   "source": [
    "#pip install pyarrow==13.0.0"
   ]
  },
  {
   "cell_type": "code",
   "execution_count": 9,
   "id": "53da29ea-bedc-4ae6-a4b0-03e38a7ad9c0",
   "metadata": {},
   "outputs": [],
   "source": [
    "#pip install --upgrade pyarrow datasets"
   ]
  },
  {
   "cell_type": "code",
   "execution_count": 10,
   "id": "a9d6fb1c-88a3-408f-9b7b-33f7cab5a99d",
   "metadata": {},
   "outputs": [],
   "source": [
    "#pip install gensim"
   ]
  },
  {
   "cell_type": "code",
   "execution_count": 11,
   "id": "4a12d6ee-5983-49f3-a893-ab9dea928db6",
   "metadata": {},
   "outputs": [],
   "source": [
    "#pip install scipy==1.12"
   ]
  },
  {
   "cell_type": "code",
   "execution_count": 12,
   "id": "7e1a9cf7-f877-41b4-b576-dfa307321566",
   "metadata": {},
   "outputs": [],
   "source": [
    "#pip install nltk"
   ]
  },
  {
   "cell_type": "code",
   "execution_count": 13,
   "id": "05d311ab-ab5e-4f4c-ae21-9c652811382e",
   "metadata": {},
   "outputs": [],
   "source": [
    "#pip install tensorflow"
   ]
  },
  {
   "cell_type": "markdown",
   "id": "dc717085-cd93-4c68-9cb8-da6193dbb9cd",
   "metadata": {},
   "source": [
    "### Step 2: Import Required Packages / Dataset  "
   ]
  },
  {
   "cell_type": "code",
   "execution_count": 15,
   "id": "4fddec71-1adc-4714-a1d2-660b30961745",
   "metadata": {},
   "outputs": [],
   "source": [
    "from datasets import load_dataset\n",
    "\n",
    "ds = load_dataset(\"thien/political\", \"classifier\")"
   ]
  },
  {
   "cell_type": "code",
   "execution_count": 16,
   "id": "7a3a0592-9175-4445-b8e3-9cdf1c93bc6d",
   "metadata": {},
   "outputs": [],
   "source": [
    "import pandas as pd"
   ]
  },
  {
   "cell_type": "code",
   "execution_count": 17,
   "id": "148abc86-9c20-4122-b563-17e53115a721",
   "metadata": {},
   "outputs": [],
   "source": [
    "from numpy import triu\n",
    "import numpy as np"
   ]
  },
  {
   "cell_type": "code",
   "execution_count": 18,
   "id": "2099b424-134c-427b-b2bb-4ade7cace5a0",
   "metadata": {},
   "outputs": [],
   "source": [
    "import tensorflow as tf"
   ]
  },
  {
   "cell_type": "code",
   "execution_count": 19,
   "id": "86066a8b-4748-4e9a-a121-b669668517d7",
   "metadata": {},
   "outputs": [],
   "source": [
    "import torch\n",
    "import torch.nn as nn\n",
    "import torch.nn.functional as F\n",
    "import torch.optim as optim\n",
    "from torch.utils.data import TensorDataset, DataLoader"
   ]
  },
  {
   "cell_type": "code",
   "execution_count": 20,
   "id": "1625493e-cd78-4e55-a91c-e430f968db8c",
   "metadata": {},
   "outputs": [],
   "source": [
    "import seaborn as sns"
   ]
  },
  {
   "cell_type": "code",
   "execution_count": 21,
   "id": "20184de8-9896-4da6-89f3-d2d342ca1cb6",
   "metadata": {},
   "outputs": [],
   "source": [
    "from sklearn.preprocessing import StandardScaler\n",
    "from sklearn import linear_model\n",
    "from sklearn.metrics import confusion_matrix"
   ]
  },
  {
   "cell_type": "code",
   "execution_count": 22,
   "id": "31ce775b-1bf2-473e-952c-e04c5dcdc7f8",
   "metadata": {},
   "outputs": [],
   "source": [
    "from gensim.models import Word2Vec\n",
    "import gensim\n",
    "from nltk.tokenize import sent_tokenize, word_tokenize\n",
    "import warnings\n",
    " \n",
    "warnings.filterwarnings(action='ignore')"
   ]
  },
  {
   "cell_type": "code",
   "execution_count": 23,
   "id": "a762abd2-03d4-4a3c-a753-3d59f297f565",
   "metadata": {},
   "outputs": [
    {
     "name": "stderr",
     "output_type": "stream",
     "text": [
      "[nltk_data] Downloading package punkt to\n",
      "[nltk_data]     /Users/carolinemoy/nltk_data...\n",
      "[nltk_data]   Package punkt is already up-to-date!\n"
     ]
    },
    {
     "data": {
      "text/plain": [
       "True"
      ]
     },
     "execution_count": 23,
     "metadata": {},
     "output_type": "execute_result"
    }
   ],
   "source": [
    "import nltk\n",
    "nltk.download('punkt')"
   ]
  },
  {
   "cell_type": "markdown",
   "id": "9559880c-4fe8-4e99-97f5-dbb788888305",
   "metadata": {},
   "source": [
    "### Step 3: Mutate Datasets for Word2Vec Compatibility"
   ]
  },
  {
   "cell_type": "markdown",
   "id": "cf9a8849-3845-4e31-9240-73d634df40d0",
   "metadata": {},
   "source": [
    "When downloaded from Hugging Face the datasets are already naturally split into training, evaluation, and testing groups. When downloading the datasets into pandas DataFrames maintaining this strucutre allowed for easy download and the splits were decided to be kept as so. However, in future study the labels could be permuted to see if similar results hold. "
   ]
  },
  {
   "cell_type": "code",
   "execution_count": 26,
   "id": "e61b977c-5bde-4823-a006-b54950a94379",
   "metadata": {},
   "outputs": [
    {
     "data": {
      "text/plain": [
       "DatasetDict({\n",
       "    train: Dataset({\n",
       "        features: ['id', 'raw_text', 'filename', 'text', 'split', 'label'],\n",
       "        num_rows: 80000\n",
       "    })\n",
       "    eval: Dataset({\n",
       "        features: ['id', 'raw_text', 'filename', 'text', 'split', 'label'],\n",
       "        num_rows: 4000\n",
       "    })\n",
       "    test: Dataset({\n",
       "        features: ['id', 'raw_text', 'filename', 'text', 'split', 'label'],\n",
       "        num_rows: 56000\n",
       "    })\n",
       "})"
      ]
     },
     "execution_count": 26,
     "metadata": {},
     "output_type": "execute_result"
    }
   ],
   "source": [
    "ds"
   ]
  },
  {
   "cell_type": "markdown",
   "id": "77056ec3-b88a-47ce-9425-d84d9182e470",
   "metadata": {},
   "source": [
    "From this we can see the columns in each data frame, as well as the number of rows in each. "
   ]
  },
  {
   "cell_type": "code",
   "execution_count": 28,
   "id": "a58c70a5-1d2a-4b93-9be3-e71d27550cb5",
   "metadata": {},
   "outputs": [],
   "source": [
    "tweets_train = pd.DataFrame(ds['train'])\n",
    "tweets_eval = pd.DataFrame(ds['eval'])\n",
    "tweets_test = pd.DataFrame(ds['test'])"
   ]
  },
  {
   "cell_type": "markdown",
   "id": "bcb21587-332f-4593-9cc8-4797b35edcfe",
   "metadata": {},
   "source": [
    "Combining all into one dataframe for simplicity. "
   ]
  },
  {
   "cell_type": "code",
   "execution_count": 30,
   "id": "8411e9a9-2f9c-4d70-a05c-c70a012729f5",
   "metadata": {},
   "outputs": [],
   "source": [
    "tweets_all = pd.concat([tweets_train, tweets_eval, tweets_test])"
   ]
  },
  {
   "cell_type": "markdown",
   "id": "a0aadef7-9127-4a3f-9cf3-ae73adda99a6",
   "metadata": {},
   "source": [
    "Selecting relevant columns "
   ]
  },
  {
   "cell_type": "code",
   "execution_count": 32,
   "id": "f71f5a2b-c5f1-49c8-b53c-6e0634e308ba",
   "metadata": {},
   "outputs": [],
   "source": [
    "tweets_all = tweets_all[['text', 'split', 'label']]"
   ]
  },
  {
   "cell_type": "code",
   "execution_count": 33,
   "id": "a22d5a45-eecb-41ca-9cdf-5e9ad2347043",
   "metadata": {},
   "outputs": [],
   "source": [
    "tweets_all['text_filtered'] = tweets_all['text'].str.replace(\"[.,!?'-:]\", '', regex = True)"
   ]
  },
  {
   "cell_type": "markdown",
   "id": "1a169897-f36b-463c-afaf-72b9e1bc094e",
   "metadata": {},
   "source": [
    "Tokenizing each text column to make compatible for Word2Vec"
   ]
  },
  {
   "cell_type": "code",
   "execution_count": 35,
   "id": "92d164cc-07ab-4fab-b961-f8b4f9dd299d",
   "metadata": {},
   "outputs": [],
   "source": [
    "tweets_all['tokens'] = tweets_all['text_filtered'].apply(lambda x: word_tokenize(x.lower()))"
   ]
  },
  {
   "cell_type": "markdown",
   "id": "4b1141a5-2cf0-49bb-8758-4bee4c2d7c57",
   "metadata": {},
   "source": [
    "Counting the number of words in each tweet and computing statistics. "
   ]
  },
  {
   "cell_type": "code",
   "execution_count": 37,
   "id": "7c0d6999-f05f-43c3-8a1e-b27c23e45fad",
   "metadata": {},
   "outputs": [],
   "source": [
    "tweets_all['num_words'] = tweets_all['tokens'].apply(lambda x: len(x))"
   ]
  },
  {
   "cell_type": "code",
   "execution_count": 38,
   "id": "0378d50e-d63a-40d3-be45-07e0ec06f43f",
   "metadata": {},
   "outputs": [
    {
     "data": {
      "text/plain": [
       "count    140000.000000\n",
       "mean         14.022929\n",
       "std           9.093388\n",
       "min           0.000000\n",
       "25%           7.000000\n",
       "50%          12.000000\n",
       "75%          18.000000\n",
       "max         108.000000\n",
       "Name: num_words, dtype: float64"
      ]
     },
     "execution_count": 38,
     "metadata": {},
     "output_type": "execute_result"
    }
   ],
   "source": [
    "tweets_all['num_words'].describe()"
   ]
  },
  {
   "cell_type": "code",
   "execution_count": 39,
   "id": "48c1707c-d11d-4aa1-8207-be1b91a0453c",
   "metadata": {},
   "outputs": [
    {
     "data": {
      "text/plain": [
       "[Text(0.5, 0, 'Number of Words in Tweet'),\n",
       " Text(0.5, 1.0, 'Length of Tweets for All Data')]"
      ]
     },
     "execution_count": 39,
     "metadata": {},
     "output_type": "execute_result"
    },
    {
     "data": {
      "image/png": "[encoded data removed]",
      "text/plain": [
       "<Figure size 640x480 with 1 Axes>"
      ]
     },
     "metadata": {},
     "output_type": "display_data"
    }
   ],
   "source": [
    "ax = sns.histplot(data = tweets_all, x = 'num_words', binwidth = 1)\n",
    "ax.set(xlabel = \"Number of Words in Tweet\", title = \"Length of Tweets for All Data\")\n",
    "#ax.title(\"Length of Tweets in All Data\")"
   ]
  },
  {
   "cell_type": "markdown",
   "id": "9cd17c66-e01c-409d-860b-31423d83757b",
   "metadata": {},
   "source": [
    "Investigating if there's a difference in tweet length based on political party. "
   ]
  },
  {
   "cell_type": "code",
   "execution_count": 41,
   "id": "f2be8270-4d71-4b99-84a9-361c4f8de661",
   "metadata": {},
   "outputs": [
    {
     "name": "stdout",
     "output_type": "stream",
     "text": [
      "Democrats count    70000.000000\n",
      "mean        13.886614\n",
      "std          9.264905\n",
      "min          0.000000\n",
      "25%          7.000000\n",
      "50%         12.000000\n",
      "75%         18.000000\n",
      "max        108.000000\n",
      "Name: num_words, dtype: float64\n",
      "Republicans count    70000.000000\n",
      "mean        14.159243\n",
      "std          8.916556\n",
      "min          1.000000\n",
      "25%          8.000000\n",
      "50%         12.000000\n",
      "75%         19.000000\n",
      "max         90.000000\n",
      "Name: num_words, dtype: float64\n"
     ]
    }
   ],
   "source": [
    "dem_tweet_stat = tweets_all[tweets_all['label'] == 'democratic']['num_words'].describe()\n",
    "rep_tweet_stat = tweets_all[tweets_all['label'] == 'republican']['num_words'].describe()\n",
    "print(\"Democrats\", dem_tweet_stat); print(\"Republicans\", rep_tweet_stat)"
   ]
  },
  {
   "cell_type": "code",
   "execution_count": 42,
   "id": "97c9a525-864b-4295-a6e3-e1f006b5be8a",
   "metadata": {},
   "outputs": [
    {
     "data": {
      "text/plain": [
       "[Text(0.5, 0, 'Number of Words'),\n",
       " Text(0, 0.5, 'Number of Tweets'),\n",
       " Text(0.5, 1.0, 'Tweets from Democrats Length Distribution')]"
      ]
     },
     "execution_count": 42,
     "metadata": {},
     "output_type": "execute_result"
    },
    {
     "data": {
      "image/png": "[encoded data removed]",
      "text/plain": [
       "<Figure size 640x480 with 1 Axes>"
      ]
     },
     "metadata": {},
     "output_type": "display_data"
    }
   ],
   "source": [
    "democrat_tweet_length = tweets_all[tweets_all['label'] == 'democratic']['num_words']\n",
    "democrat_tweet_length_graph = sns.histplot(data = democrat_tweet_length, binwidth = 1)\n",
    "democrat_tweet_length_graph.set(xlabel = \"Number of Words\", \n",
    "                 ylabel = \"Number of Tweets\", \n",
    "                 title = \"Tweets from Democrats Length Distribution\")"
   ]
  },
  {
   "cell_type": "code",
   "execution_count": 43,
   "id": "4f99f9e6-86af-4153-a1e8-ebb10304c8c6",
   "metadata": {},
   "outputs": [
    {
     "data": {
      "text/plain": [
       "[Text(0.5, 0, 'Number of Words'),\n",
       " Text(0, 0.5, 'Number of Tweets'),\n",
       " Text(0.5, 1.0, 'Tweets from Republicans Length Distribution')]"
      ]
     },
     "execution_count": 43,
     "metadata": {},
     "output_type": "execute_result"
    },
    {
     "data": {
      "image/png": "[encoded data removed]",
      "text/plain": [
       "<Figure size 640x480 with 1 Axes>"
      ]
     },
     "metadata": {},
     "output_type": "display_data"
    }
   ],
   "source": [
    "republican_tweet_length = tweets_all[tweets_all['label'] == 'republican']['num_words']\n",
    "republican_tweet_length_graph = sns.histplot(data = democrat_tweet_length, binwidth = 1)\n",
    "republican_tweet_length_graph.set(xlabel = \"Number of Words\", \n",
    "                 ylabel = \"Number of Tweets\", \n",
    "                 title = \"Tweets from Republicans Length Distribution\")"
   ]
  },
  {
   "cell_type": "markdown",
   "id": "96909f6e-9f17-4d51-b247-2b8ab9f0764f",
   "metadata": {},
   "source": [
    "We can see that they are not signficantly different and have very similar statistics. "
   ]
  },
  {
   "cell_type": "markdown",
   "id": "ee8552be-dfcc-4ac4-8315-3cea6e5dd9c8",
   "metadata": {},
   "source": [
    "Graph showing the number of tweets per political party in each split of the data. "
   ]
  },
  {
   "cell_type": "code",
   "execution_count": 46,
   "id": "a2cb1e58-7eee-4500-b5d5-78b25255e6f5",
   "metadata": {},
   "outputs": [
    {
     "data": {
      "text/plain": [
       "[Text(0.5, 0, 'Data Split (from Hugging Face)'),\n",
       " Text(0, 0.5, 'Number of Tweets'),\n",
       " Text(0.5, 1.0, \"Data Split and Tweets' Political Affiliation\")]"
      ]
     },
     "execution_count": 46,
     "metadata": {},
     "output_type": "execute_result"
    },
    {
     "data": {
      "image/png": "[encoded data removed]",
      "text/plain": [
       "<Figure size 640x480 with 1 Axes>"
      ]
     },
     "metadata": {},
     "output_type": "display_data"
    }
   ],
   "source": [
    "## displaying the number of rows in train, eval, and test -- show even split democrat republican \n",
    "split_label_df = tweets_all.groupby(['split', 'label']).size().reset_index(name='count')\n",
    "counts_graph = sns.barplot(data = split_label_df, x = 'split', y = 'count', hue = 'label')\n",
    "counts_graph.set(xlabel = \"Data Split (from Hugging Face)\", \n",
    "                 ylabel = \"Number of Tweets\", \n",
    "                 title = \"Data Split and Tweets' Political Affiliation\")"
   ]
  },
  {
   "cell_type": "markdown",
   "id": "037ce922-0e2f-4fda-9c56-62608a1de050",
   "metadata": {},
   "source": [
    "We can see that there's an even split of Democrat and Republican tweets in each data split. "
   ]
  },
  {
   "cell_type": "markdown",
   "id": "83dc349a-b63d-42b1-b68a-2447be5bb9ff",
   "metadata": {},
   "source": [
    "Finding top 10 buzzwords"
   ]
  },
  {
   "cell_type": "code",
   "execution_count": 49,
   "id": "1fbe4d95-4f42-4eb4-92d9-dce2e3920ed5",
   "metadata": {},
   "outputs": [],
   "source": [
    "tokens_list_list = tweets_all['tokens'].tolist()\n",
    "flat_list = [\n",
    "    x\n",
    "    for xs in tokens_list_list\n",
    "    for x in xs\n",
    "]"
   ]
  },
  {
   "cell_type": "markdown",
   "id": "3af87cce-455c-4bcc-be29-9a2832618b10",
   "metadata": {},
   "source": [
    "First looking at words that are only over 3 characters"
   ]
  },
  {
   "cell_type": "code",
   "execution_count": 51,
   "id": "79fdaec4-a7b1-4ade-a7ee-6f1893e58777",
   "metadata": {},
   "outputs": [],
   "source": [
    "list1 = [x for x in flat_list if len(x) > 3]\n",
    "common_words = ['the', 'and', 'with', 'are', 'for', 'that', \n",
    "                'you', 'your', 'have', 'our', 'this', 'what', \n",
    "                'from', 'about','like', 'they', 'will', 'just', \n",
    "               'would', 'has', 'who', 'his', 'was', 'should']\n",
    "list_filtered = [x for x in list1 if x not in common_words]"
   ]
  },
  {
   "cell_type": "code",
   "execution_count": 52,
   "id": "f36acfe8-ddfc-426a-937c-f462b664a5d4",
   "metadata": {},
   "outputs": [],
   "source": [
    "words = pd.DataFrame(list_filtered)\n",
    "words.rename(columns={0: 'word'}, inplace=True)"
   ]
  },
  {
   "cell_type": "code",
   "execution_count": 53,
   "id": "c57fba66-4521-46df-8497-f87bffda1517",
   "metadata": {},
   "outputs": [],
   "source": [
    "word_counts = pd.DataFrame(words.groupby('word').size().reset_index(name='count'))"
   ]
  },
  {
   "cell_type": "code",
   "execution_count": 54,
   "id": "6b006ffc-3a3d-4c44-bd34-1a0047b9f5c4",
   "metadata": {},
   "outputs": [
    {
     "data": {
      "text/html": [
       "<div>\n",
       "<style scoped>\n",
       "    .dataframe tbody tr th:only-of-type {\n",
       "        vertical-align: middle;\n",
       "    }\n",
       "\n",
       "    .dataframe tbody tr th {\n",
       "        vertical-align: top;\n",
       "    }\n",
       "\n",
       "    .dataframe thead th {\n",
       "        text-align: right;\n",
       "    }\n",
       "</style>\n",
       "<table border=\"1\" class=\"dataframe\">\n",
       "  <thead>\n",
       "    <tr style=\"text-align: right;\">\n",
       "      <th></th>\n",
       "      <th>word</th>\n",
       "      <th>count</th>\n",
       "    </tr>\n",
       "  </thead>\n",
       "  <tbody>\n",
       "    <tr>\n",
       "      <th>30591</th>\n",
       "      <td>senator</td>\n",
       "      <td>8421</td>\n",
       "    </tr>\n",
       "    <tr>\n",
       "      <th>25163</th>\n",
       "      <td>people</td>\n",
       "      <td>8083</td>\n",
       "    </tr>\n",
       "    <tr>\n",
       "      <th>23488</th>\n",
       "      <td>obama</td>\n",
       "      <td>6958</td>\n",
       "    </tr>\n",
       "    <tr>\n",
       "      <th>34182</th>\n",
       "      <td>thank</td>\n",
       "      <td>6380</td>\n",
       "    </tr>\n",
       "    <tr>\n",
       "      <th>36862</th>\n",
       "      <td>vote</td>\n",
       "      <td>6135</td>\n",
       "    </tr>\n",
       "    <tr>\n",
       "      <th>26491</th>\n",
       "      <td>president</td>\n",
       "      <td>4807</td>\n",
       "    </tr>\n",
       "    <tr>\n",
       "      <th>35290</th>\n",
       "      <td>trump</td>\n",
       "      <td>4756</td>\n",
       "    </tr>\n",
       "    <tr>\n",
       "      <th>22686</th>\n",
       "      <td>need</td>\n",
       "      <td>4706</td>\n",
       "    </tr>\n",
       "    <tr>\n",
       "      <th>25763</th>\n",
       "      <td>please</td>\n",
       "      <td>4640</td>\n",
       "    </tr>\n",
       "    <tr>\n",
       "      <th>22061</th>\n",
       "      <td>more</td>\n",
       "      <td>4546</td>\n",
       "    </tr>\n",
       "  </tbody>\n",
       "</table>\n",
       "</div>"
      ],
      "text/plain": [
       "            word  count\n",
       "30591    senator   8421\n",
       "25163     people   8083\n",
       "23488      obama   6958\n",
       "34182      thank   6380\n",
       "36862       vote   6135\n",
       "26491  president   4807\n",
       "35290      trump   4756\n",
       "22686       need   4706\n",
       "25763     please   4640\n",
       "22061       more   4546"
      ]
     },
     "execution_count": 54,
     "metadata": {},
     "output_type": "execute_result"
    }
   ],
   "source": [
    "refined_words = word_counts.sort_values('count', ascending = False).head(10)\n",
    "refined_words "
   ]
  },
  {
   "cell_type": "markdown",
   "id": "bd0436fe-0d0a-4116-b0ad-8d409040ed11",
   "metadata": {},
   "source": [
    "None of the words are large partisan issues, instead it mentions past presidents, or they are referencing other senators. Many of the words also seem to be encouraging people to vote or possibly donate to their campaigns."
   ]
  },
  {
   "cell_type": "markdown",
   "id": "a5dae3d5-a050-4b1a-92e1-c96153d68674",
   "metadata": {},
   "source": [
    "Looking at words over 2 characters"
   ]
  },
  {
   "cell_type": "code",
   "execution_count": 57,
   "id": "3a79da5e-0021-4ab5-ae4f-d3559182dc7e",
   "metadata": {},
   "outputs": [
    {
     "data": {
      "text/html": [
       "<div>\n",
       "<style scoped>\n",
       "    .dataframe tbody tr th:only-of-type {\n",
       "        vertical-align: middle;\n",
       "    }\n",
       "\n",
       "    .dataframe tbody tr th {\n",
       "        vertical-align: top;\n",
       "    }\n",
       "\n",
       "    .dataframe thead th {\n",
       "        text-align: right;\n",
       "    }\n",
       "</style>\n",
       "<table border=\"1\" class=\"dataframe\">\n",
       "  <thead>\n",
       "    <tr style=\"text-align: right;\">\n",
       "      <th></th>\n",
       "      <th>word</th>\n",
       "      <th>count</th>\n",
       "    </tr>\n",
       "  </thead>\n",
       "  <tbody>\n",
       "    <tr>\n",
       "      <th>35631</th>\n",
       "      <td>the</td>\n",
       "      <td>85728</td>\n",
       "    </tr>\n",
       "    <tr>\n",
       "      <th>1394</th>\n",
       "      <td>and</td>\n",
       "      <td>54463</td>\n",
       "    </tr>\n",
       "    <tr>\n",
       "      <th>40158</th>\n",
       "      <td>you</td>\n",
       "      <td>49323</td>\n",
       "    </tr>\n",
       "    <tr>\n",
       "      <th>13740</th>\n",
       "      <td>for</td>\n",
       "      <td>33333</td>\n",
       "    </tr>\n",
       "    <tr>\n",
       "      <th>35612</th>\n",
       "      <td>that</td>\n",
       "      <td>20523</td>\n",
       "    </tr>\n",
       "    <tr>\n",
       "      <th>1871</th>\n",
       "      <td>are</td>\n",
       "      <td>16728</td>\n",
       "    </tr>\n",
       "    <tr>\n",
       "      <th>40188</th>\n",
       "      <td>your</td>\n",
       "      <td>14825</td>\n",
       "    </tr>\n",
       "    <tr>\n",
       "      <th>24274</th>\n",
       "      <td>not</td>\n",
       "      <td>14689</td>\n",
       "    </tr>\n",
       "    <tr>\n",
       "      <th>35838</th>\n",
       "      <td>this</td>\n",
       "      <td>14235</td>\n",
       "    </tr>\n",
       "    <tr>\n",
       "      <th>16041</th>\n",
       "      <td>have</td>\n",
       "      <td>13758</td>\n",
       "    </tr>\n",
       "  </tbody>\n",
       "</table>\n",
       "</div>"
      ],
      "text/plain": [
       "       word  count\n",
       "35631   the  85728\n",
       "1394    and  54463\n",
       "40158   you  49323\n",
       "13740   for  33333\n",
       "35612  that  20523\n",
       "1871    are  16728\n",
       "40188  your  14825\n",
       "24274   not  14689\n",
       "35838  this  14235\n",
       "16041  have  13758"
      ]
     },
     "execution_count": 57,
     "metadata": {},
     "output_type": "execute_result"
    }
   ],
   "source": [
    "list_basic = [x for x in flat_list if len(x) > 2]\n",
    "words_basic = pd.DataFrame(list_basic)\n",
    "words_basic.rename(columns={0: 'word'}, inplace=True)\n",
    "word_counts_basic = pd.DataFrame(words_basic.groupby('word').size().reset_index(name='count'))\n",
    "basic_words = word_counts_basic.sort_values('count', ascending = False).head(10)\n",
    "basic_words"
   ]
  },
  {
   "cell_type": "markdown",
   "id": "42febff9-9c53-4af9-ae7c-905046a362e5",
   "metadata": {},
   "source": [
    "This is an expected result because the common words aren't filtered, instead this just looks at the most common words that are over 2 characters."
   ]
  },
  {
   "cell_type": "markdown",
   "id": "c6dfc8b9-9edd-4990-8764-462a0d60c600",
   "metadata": {},
   "source": [
    "Republican word pattern investigations. "
   ]
  },
  {
   "cell_type": "code",
   "execution_count": 60,
   "id": "53be32cc-8f34-43f6-bacf-4f6999e00427",
   "metadata": {},
   "outputs": [],
   "source": [
    "tokens_list_list_rep = tweets_all[tweets_all['label'] == 'republican']['tokens'].tolist()\n",
    "flat_list_rep = [\n",
    "    x\n",
    "    for xs in tokens_list_list_rep\n",
    "    for x in xs\n",
    "]\n",
    "list1_rep = [x for x in flat_list_rep if len(x) > 3]\n",
    "list_filtered_rep = [x for x in list1_rep if x not in common_words]"
   ]
  },
  {
   "cell_type": "code",
   "execution_count": 61,
   "id": "ce3aad3c-3bc4-45e4-bf16-80d57dcb65c0",
   "metadata": {},
   "outputs": [
    {
     "data": {
      "text/html": [
       "<div>\n",
       "<style scoped>\n",
       "    .dataframe tbody tr th:only-of-type {\n",
       "        vertical-align: middle;\n",
       "    }\n",
       "\n",
       "    .dataframe tbody tr th {\n",
       "        vertical-align: top;\n",
       "    }\n",
       "\n",
       "    .dataframe thead th {\n",
       "        text-align: right;\n",
       "    }\n",
       "</style>\n",
       "<table border=\"1\" class=\"dataframe\">\n",
       "  <thead>\n",
       "    <tr style=\"text-align: right;\">\n",
       "      <th></th>\n",
       "      <th>word</th>\n",
       "      <th>count</th>\n",
       "    </tr>\n",
       "  </thead>\n",
       "  <tbody>\n",
       "    <tr>\n",
       "      <th>14047</th>\n",
       "      <td>obama</td>\n",
       "      <td>6423</td>\n",
       "    </tr>\n",
       "    <tr>\n",
       "      <th>15107</th>\n",
       "      <td>people</td>\n",
       "      <td>4143</td>\n",
       "    </tr>\n",
       "    <tr>\n",
       "      <th>22330</th>\n",
       "      <td>vote</td>\n",
       "      <td>3277</td>\n",
       "    </tr>\n",
       "    <tr>\n",
       "      <th>15923</th>\n",
       "      <td>president</td>\n",
       "      <td>3011</td>\n",
       "    </tr>\n",
       "    <tr>\n",
       "      <th>8925</th>\n",
       "      <td>government</td>\n",
       "      <td>2619</td>\n",
       "    </tr>\n",
       "    <tr>\n",
       "      <th>6276</th>\n",
       "      <td>dont</td>\n",
       "      <td>2609</td>\n",
       "    </tr>\n",
       "    <tr>\n",
       "      <th>13630</th>\n",
       "      <td>need</td>\n",
       "      <td>2546</td>\n",
       "    </tr>\n",
       "    <tr>\n",
       "      <th>4206</th>\n",
       "      <td>congress</td>\n",
       "      <td>2522</td>\n",
       "    </tr>\n",
       "    <tr>\n",
       "      <th>4639</th>\n",
       "      <td>country</td>\n",
       "      <td>2520</td>\n",
       "    </tr>\n",
       "    <tr>\n",
       "      <th>14978</th>\n",
       "      <td>paul</td>\n",
       "      <td>2514</td>\n",
       "    </tr>\n",
       "  </tbody>\n",
       "</table>\n",
       "</div>"
      ],
      "text/plain": [
       "             word  count\n",
       "14047       obama   6423\n",
       "15107      people   4143\n",
       "22330        vote   3277\n",
       "15923   president   3011\n",
       "8925   government   2619\n",
       "6276         dont   2609\n",
       "13630        need   2546\n",
       "4206     congress   2522\n",
       "4639      country   2520\n",
       "14978        paul   2514"
      ]
     },
     "execution_count": 61,
     "metadata": {},
     "output_type": "execute_result"
    }
   ],
   "source": [
    "words_rep = pd.DataFrame(list_filtered_rep)\n",
    "words_rep.rename(columns={0: 'word'}, inplace=True)\n",
    "word_rep_counts = pd.DataFrame(words_rep.groupby('word').size().reset_index(name='count'))\n",
    "refined_words_rep = word_rep_counts.sort_values('count', ascending = False).head(10)\n",
    "refined_words_rep"
   ]
  },
  {
   "cell_type": "markdown",
   "id": "573f1acc-55d1-4cff-ae35-14bbb27d163d",
   "metadata": {},
   "source": [
    "Democrat"
   ]
  },
  {
   "cell_type": "code",
   "execution_count": 63,
   "id": "003b375e-969f-4098-84c9-7694955de391",
   "metadata": {},
   "outputs": [],
   "source": [
    "tokens_list_list_dem = tweets_all[tweets_all['label'] == 'democratic']['tokens'].tolist()\n",
    "flat_list_dem = [\n",
    "    x\n",
    "    for xs in tokens_list_list_dem\n",
    "    for x in xs\n",
    "]\n",
    "list1_dem = [x for x in flat_list_dem if len(x) > 3]\n",
    "list_filtered_dem = [x for x in list1_dem if x not in common_words]"
   ]
  },
  {
   "cell_type": "code",
   "execution_count": 64,
   "id": "0cde3adf-a9bb-4807-980f-683ed091ea81",
   "metadata": {},
   "outputs": [
    {
     "data": {
      "text/html": [
       "<div>\n",
       "<style scoped>\n",
       "    .dataframe tbody tr th:only-of-type {\n",
       "        vertical-align: middle;\n",
       "    }\n",
       "\n",
       "    .dataframe tbody tr th {\n",
       "        vertical-align: top;\n",
       "    }\n",
       "\n",
       "    .dataframe thead th {\n",
       "        text-align: right;\n",
       "    }\n",
       "</style>\n",
       "<table border=\"1\" class=\"dataframe\">\n",
       "  <thead>\n",
       "    <tr style=\"text-align: right;\">\n",
       "      <th></th>\n",
       "      <th>word</th>\n",
       "      <th>count</th>\n",
       "    </tr>\n",
       "  </thead>\n",
       "  <tbody>\n",
       "    <tr>\n",
       "      <th>22748</th>\n",
       "      <td>senator</td>\n",
       "      <td>6336</td>\n",
       "    </tr>\n",
       "    <tr>\n",
       "      <th>25468</th>\n",
       "      <td>thank</td>\n",
       "      <td>6213</td>\n",
       "    </tr>\n",
       "    <tr>\n",
       "      <th>27623</th>\n",
       "      <td>warren</td>\n",
       "      <td>4159</td>\n",
       "    </tr>\n",
       "    <tr>\n",
       "      <th>26252</th>\n",
       "      <td>trump</td>\n",
       "      <td>4079</td>\n",
       "    </tr>\n",
       "    <tr>\n",
       "      <th>18669</th>\n",
       "      <td>people</td>\n",
       "      <td>3940</td>\n",
       "    </tr>\n",
       "    <tr>\n",
       "      <th>2411</th>\n",
       "      <td>bernie</td>\n",
       "      <td>3515</td>\n",
       "    </tr>\n",
       "    <tr>\n",
       "      <th>8220</th>\n",
       "      <td>elizabeth</td>\n",
       "      <td>3209</td>\n",
       "    </tr>\n",
       "    <tr>\n",
       "      <th>19128</th>\n",
       "      <td>please</td>\n",
       "      <td>2920</td>\n",
       "    </tr>\n",
       "    <tr>\n",
       "      <th>27446</th>\n",
       "      <td>vote</td>\n",
       "      <td>2858</td>\n",
       "    </tr>\n",
       "    <tr>\n",
       "      <th>11839</th>\n",
       "      <td>hillary</td>\n",
       "      <td>2402</td>\n",
       "    </tr>\n",
       "  </tbody>\n",
       "</table>\n",
       "</div>"
      ],
      "text/plain": [
       "            word  count\n",
       "22748    senator   6336\n",
       "25468      thank   6213\n",
       "27623     warren   4159\n",
       "26252      trump   4079\n",
       "18669     people   3940\n",
       "2411      bernie   3515\n",
       "8220   elizabeth   3209\n",
       "19128     please   2920\n",
       "27446       vote   2858\n",
       "11839    hillary   2402"
      ]
     },
     "execution_count": 64,
     "metadata": {},
     "output_type": "execute_result"
    }
   ],
   "source": [
    "words_dem = pd.DataFrame(list_filtered_dem)\n",
    "words_dem.rename(columns={0: 'word'}, inplace=True)\n",
    "word_dem_counts = pd.DataFrame(words_dem.groupby('word').size().reset_index(name='count'))\n",
    "refined_words_dem = word_dem_counts.sort_values('count', ascending = False).head(10)\n",
    "refined_words_dem"
   ]
  },
  {
   "cell_type": "markdown",
   "id": "8abc4275-babb-4526-af5e-52b462d11bd9",
   "metadata": {},
   "source": [
    "The main difference is that Democrats mention their own party members more, and Republicans have more general words about government. "
   ]
  },
  {
   "cell_type": "markdown",
   "id": "d7df318b-7327-4d9a-8553-a6948be4d0da",
   "metadata": {},
   "source": [
    "### Step 4: Applying Word2Vec "
   ]
  },
  {
   "cell_type": "markdown",
   "id": "7c1bf393-fe19-4886-ba59-8a27c5ce8ac1",
   "metadata": {},
   "source": [
    "Creating word embedding vectors of different lengths to test accuracy later in the pipeline. The main pipeline was refined with word embeddings of length 100. "
   ]
  },
  {
   "cell_type": "code",
   "execution_count": 68,
   "id": "a57cd463-84bf-4fbf-b77c-e3b3890308f0",
   "metadata": {},
   "outputs": [],
   "source": [
    "word_vecs100 = Word2Vec(tweets_all['tokens'], vector_size=100, window=5, min_count=1, workers=4)\n",
    "# vector size captures how long the vector is for each word "
   ]
  },
  {
   "cell_type": "markdown",
   "id": "dc4ad9c8-f857-46b6-a18b-72dfed2b99e6",
   "metadata": {},
   "source": [
    "Removing rows with a token length of 0, in this case it's only a singular row, and the tweet is \"2020!\" I previously removed punctuation and Word2Vec doesn't recognize the 2020. If this row is kept in the following rows will error. "
   ]
  },
  {
   "cell_type": "code",
   "execution_count": 70,
   "id": "1bc782db-9216-418a-967c-7f6a48fb6d85",
   "metadata": {},
   "outputs": [],
   "source": [
    "tweets_all = tweets_all[tweets_all['tokens'].apply(lambda x: len(x) != 0)]"
   ]
  },
  {
   "cell_type": "markdown",
   "id": "bbb8d49c-f81d-48af-afce-ee943d71032a",
   "metadata": {},
   "source": [
    "### Republican as 0, Democrat as 1"
   ]
  },
  {
   "cell_type": "code",
   "execution_count": 72,
   "id": "734771b2-a17a-4584-8e22-e3462b104ba7",
   "metadata": {},
   "outputs": [],
   "source": [
    "tweets_all['label_coded'] = tweets_all['label'].map({'republican': 0, 'democratic' : 1})"
   ]
  },
  {
   "cell_type": "markdown",
   "id": "b159739c-1a75-4052-8751-9e8cb3033245",
   "metadata": {},
   "source": [
    "### Step 5: Mapping Word Embeddings to Tweets and Finding Common Vector"
   ]
  },
  {
   "cell_type": "code",
   "execution_count": 75,
   "id": "2f21d471-a62b-4aa1-802a-1ca168fc54dc",
   "metadata": {},
   "outputs": [],
   "source": [
    "tweets_all['avg_word_vec'] = tweets_all['tokens'].apply(lambda x: np.mean(word_vecs100.wv[x], axis=0))"
   ]
  },
  {
   "cell_type": "code",
   "execution_count": 76,
   "id": "5a0dccb2-5864-4442-86c6-9086b5d4c26b",
   "metadata": {},
   "outputs": [],
   "source": [
    "tweets_all['sum_word_vec'] = tweets_all['tokens'].apply(lambda x: np.sum(word_vecs100.wv[x], axis=0))"
   ]
  },
  {
   "cell_type": "code",
   "execution_count": 77,
   "id": "82e87a07-088d-4c3d-aaca-958f6ebff768",
   "metadata": {},
   "outputs": [],
   "source": [
    "tweets_all['max_word_vec'] = tweets_all['tokens'].apply(lambda x: np.max(word_vecs100.wv[x], axis=0))"
   ]
  },
  {
   "cell_type": "markdown",
   "id": "6090a613-9ecc-4c49-83ea-d1886bd018ac",
   "metadata": {},
   "source": [
    "Converting datasets to tensors for Averages "
   ]
  },
  {
   "cell_type": "code",
   "execution_count": 80,
   "id": "00b9d857-5d13-48f1-a16d-36812cd66637",
   "metadata": {},
   "outputs": [],
   "source": [
    "# Standardizing\n",
    "scaler = StandardScaler()\n",
    "avg_word_vecs = tweets_all['avg_word_vec'].tolist()\n",
    "standardized_vecs = scaler.fit_transform(avg_word_vecs)"
   ]
  },
  {
   "cell_type": "markdown",
   "id": "76e77101-c79f-4650-8a9e-f05280be0b88",
   "metadata": {},
   "source": [
    "Resetting the index because we removed one row above; important to note we don't need to use the reset index dataset for evaluation and test because each training split has their own indices, example there are three rows with an indices of 1 (the first row of each data split). "
   ]
  },
  {
   "cell_type": "code",
   "execution_count": 81,
   "id": "98c61d9e-6926-4837-ad1b-1c9f0d737bbe",
   "metadata": {},
   "outputs": [],
   "source": [
    "filtered_tweets_all = tweets_all.reset_index(drop=True)"
   ]
  },
  {
   "cell_type": "code",
   "execution_count": 82,
   "id": "4b6bc836-793f-47a7-9c4b-8b4db1b12be4",
   "metadata": {},
   "outputs": [],
   "source": [
    "X_train = torch.tensor(standardized_vecs[filtered_tweets_all['split'] == 'train'], dtype=torch.float32)\n",
    "y_train = torch.tensor(filtered_tweets_all[filtered_tweets_all['split'] == 'train']['label_coded'])\n",
    "training_dataset = TensorDataset(X_train, y_train)"
   ]
  },
  {
   "cell_type": "code",
   "execution_count": 84,
   "id": "55ae7632-d2d9-4f95-a4ca-f3c12cb611bd",
   "metadata": {},
   "outputs": [],
   "source": [
    "X_eval = torch.tensor(standardized_vecs[tweets_all['split'] == 'dev'], dtype=torch.float32)\n",
    "y_eval = torch.tensor(tweets_all[tweets_all['split'] == 'dev']['label_coded'])\n",
    "eval_dataset = TensorDataset(X_eval, y_eval)"
   ]
  },
  {
   "cell_type": "code",
   "execution_count": 85,
   "id": "8a8c001a-db93-4f98-9934-d266593ffbc8",
   "metadata": {},
   "outputs": [],
   "source": [
    "X_test = torch.tensor(standardized_vecs[tweets_all['split'] == 'test'], dtype=torch.float32)\n",
    "y_test = torch.tensor(tweets_all[tweets_all['split'] == 'test']['label_coded'])\n",
    "test_dataset = TensorDataset(X_test, y_test)"
   ]
  },
  {
   "cell_type": "markdown",
   "id": "42980048-09eb-4a8b-aa15-da74f2b69873",
   "metadata": {},
   "source": [
    "### Step 7: Defining the Model "
   ]
  },
  {
   "cell_type": "code",
   "execution_count": 87,
   "id": "f4faf6dc-738c-4ff9-8cdd-a0cae8f27c20",
   "metadata": {},
   "outputs": [],
   "source": [
    "class MultiLayerPerceptron(nn.Module): \n",
    "    def __init__(self, num_features, hidden_size1, hidden_size2, num_classes):\n",
    "        super(MultiLayerPerceptron, self).__init__()\n",
    "        # 1st hidden layer \n",
    "        self.linear1 = nn.Linear(num_features, hidden_size1)\n",
    "        # 2nd hidden layer\n",
    "        self.linear2 = nn.Linear(hidden_size1, hidden_size2)\n",
    "        # output layer \n",
    "        self.linear_output = nn.Linear(hidden_size2, num_classes)\n",
    "    \n",
    "    def forward(self, x): \n",
    "        x = F.relu(self.linear1(x))\n",
    "        x = F.relu(self.linear2(x))\n",
    "        x = self.linear_output(x) #logits\n",
    "        #probs = F.sigmoid(logits, dim=1)\n",
    "        return x"
   ]
  },
  {
   "cell_type": "markdown",
   "id": "82f834b2-7a43-4aa8-90a5-2543713784cc",
   "metadata": {},
   "source": [
    "### Step 8: Cross Validating to Find Best Hyperparameters"
   ]
  },
  {
   "cell_type": "code",
   "execution_count": 90,
   "id": "8a151888-24b2-41cf-ac97-74fc5e23f2b4",
   "metadata": {},
   "outputs": [
    {
     "data": {
      "text/plain": [
       "'\\ndef selecting_hyperparameters(num_iterations = 10):\\n    best_value_loss = float(\\'inf\\')\\n    best_hyperparameters = None \\n\\n    for iteration in range(num_iterations):\\n        batch_size = int(np.random.choice([32, 64, 128]))\\n        hyperparameters = {\\n            \\'learning_rate\\': np.random.choice([1e-2, 1e-3, 1e-4]), \\n            \\'hidden_size1\\' : np.random.choice([32, 64, 128]), \\n            \\'hidden_size2\\' : np.random.choice([16, 32, 64]), \\n            \\'batch_size\\' : batch_size}\\n\\n        model = MultiLayerPerceptron(num_features, hidden_size1, hidden_size2, num_classes)\\n        dataloader = DataLoader(training_dataset, batch_size = hyperparameters[\\'batch_size\\'], shuffle = True)\\n\\n        loss_func = nn.BCEWithLogitsLoss() #BCELoss() \\n        optimizer = torch.optim.Adam(model.parameters())\\n\\n        model.train()\\n\\n        for epoch in range(20): \\n            total_loss = 0\\n\\n            for batch_X, batch_y in dataloader:\\n        #logits, outputs = model(batch_X)\\n        #batch_X = batch_X.to(device)\\n        #batch_y = batch_y.float().to(device)\\n                optimizer.zero_grad()\\n\\n                outputs = model(batch_X)\\n\\n                outputs = outputs.squeeze()\\n\\n                batch_y = batch_y.float()\\n\\n                loss = loss_func(outputs, batch_y)\\n\\n            \\n                loss.backward()\\n                optimizer.step()\\n\\n                total_loss += loss.item()\\n\\n        model.eval()\\n        eval_loader = DataLoader(eval_dataset, batch_size=64, shuffle=False)\\n        val_loss = 0\\n        with torch.no_grad():\\n            for batch_X, batch_y in dataloader:\\n            \\n                outputs = model(batch_X)\\n\\n                outputs = outputs.squeeze()\\n\\n                batch_y = batch_y.float()\\n\\n                loss = loss_func(outputs, batch_y)\\n\\n                val_loss += loss.item()\\n\\n        if best_value_loss > val_loss:\\n            best_value_loss = val_loss\\n            best_hyperparameters = hyperparameters\\n            best_model = model \\n\\n    print(\"Optimal Hyperparameters\", best_hyperparameters)\\n    print(\"Best Validation Loss\", best_value_loss)\\n\\n    return best_model, best_hyperparameters\\n'"
      ]
     },
     "execution_count": 90,
     "metadata": {},
     "output_type": "execute_result"
    }
   ],
   "source": [
    "'''\n",
    "def selecting_hyperparameters(num_iterations = 10):\n",
    "    best_value_loss = float('inf')\n",
    "    best_hyperparameters = None \n",
    "\n",
    "    for iteration in range(num_iterations):\n",
    "        batch_size = int(np.random.choice([32, 64, 128]))\n",
    "        hyperparameters = {\n",
    "            'learning_rate': np.random.choice([1e-2, 1e-3, 1e-4]), \n",
    "            'hidden_size1' : np.random.choice([32, 64, 128]), \n",
    "            'hidden_size2' : np.random.choice([16, 32, 64]), \n",
    "            'batch_size' : batch_size}\n",
    "\n",
    "        model = MultiLayerPerceptron(num_features, hidden_size1, hidden_size2, num_classes)\n",
    "        dataloader = DataLoader(training_dataset, batch_size = hyperparameters['batch_size'], shuffle = True)\n",
    "\n",
    "        loss_func = nn.BCEWithLogitsLoss() #BCELoss() \n",
    "        optimizer = torch.optim.Adam(model.parameters())\n",
    "\n",
    "        model.train()\n",
    "\n",
    "        for epoch in range(20): \n",
    "            total_loss = 0\n",
    "\n",
    "            for batch_X, batch_y in dataloader:\n",
    "        #logits, outputs = model(batch_X)\n",
    "        #batch_X = batch_X.to(device)\n",
    "        #batch_y = batch_y.float().to(device)\n",
    "                optimizer.zero_grad()\n",
    "\n",
    "                outputs = model(batch_X)\n",
    "\n",
    "                outputs = outputs.squeeze()\n",
    "\n",
    "                batch_y = batch_y.float()\n",
    "\n",
    "                loss = loss_func(outputs, batch_y)\n",
    "\n",
    "            \n",
    "                loss.backward()\n",
    "                optimizer.step()\n",
    "\n",
    "                total_loss += loss.item()\n",
    "\n",
    "        model.eval()\n",
    "        eval_loader = DataLoader(eval_dataset, batch_size=64, shuffle=False)\n",
    "        val_loss = 0\n",
    "        with torch.no_grad():\n",
    "            for batch_X, batch_y in dataloader:\n",
    "            \n",
    "                outputs = model(batch_X)\n",
    "\n",
    "                outputs = outputs.squeeze()\n",
    "\n",
    "                batch_y = batch_y.float()\n",
    "\n",
    "                loss = loss_func(outputs, batch_y)\n",
    "\n",
    "                val_loss += loss.item()\n",
    "\n",
    "        if best_value_loss > val_loss:\n",
    "            best_value_loss = val_loss\n",
    "            best_hyperparameters = hyperparameters\n",
    "            best_model = model \n",
    "\n",
    "    print(\"Optimal Hyperparameters\", best_hyperparameters)\n",
    "    print(\"Best Validation Loss\", best_value_loss)\n",
    "\n",
    "    return best_model, best_hyperparameters\n",
    "'''"
   ]
  },
  {
   "cell_type": "code",
   "execution_count": 91,
   "id": "81017abc-2d03-4ef6-875c-6c4a3292157c",
   "metadata": {},
   "outputs": [],
   "source": [
    "#best_model, best_hyperparams = selecting_hyperparameters()"
   ]
  },
  {
   "cell_type": "markdown",
   "id": "2fabe861-e32d-4b63-b11d-15cf1e112aaf",
   "metadata": {},
   "source": [
    "What the above cell will look like when ran (however commented these out because it takes about an hour and a half to run). Used these hyperparameters for my analysis. "
   ]
  },
  {
   "attachments": {
    "47e05d35-714e-4832-a965-e7ad2a9d6899.png": {
     "image/png": "[encoded data removed]"
    }
   },
   "cell_type": "markdown",
   "id": "d0573a58-2445-4399-a649-5ca934f78e16",
   "metadata": {},
   "source": [
    "![Screen Shot 2024-12-02 at 10.09.59 AM.png](attachment:47e05d35-714e-4832-a965-e7ad2a9d6899.png)"
   ]
  },
  {
   "cell_type": "markdown",
   "id": "578b23c1-0a93-4379-b1b3-82ff097112ea",
   "metadata": {},
   "source": [
    "### Step 9: Training the Model Based on Best Hyperparameters"
   ]
  },
  {
   "cell_type": "code",
   "execution_count": 95,
   "id": "0b4fb5e8-17bb-4a75-a67c-01240e0bb74f",
   "metadata": {},
   "outputs": [],
   "source": [
    "num_features = 100\n",
    "# hidden is how many perceptrons \n",
    "hidden_size1 = 128\n",
    "hidden_size2 = 32\n",
    "num_classes = 1  # Binary classification\n",
    "\n",
    "learning_rate = 0.0001\n",
    "epochs = 100\n",
    "\n",
    "batch_size = 128"
   ]
  },
  {
   "cell_type": "code",
   "execution_count": 96,
   "id": "cd38a970-ddcd-48e3-9897-ac0c63e0ab65",
   "metadata": {},
   "outputs": [],
   "source": [
    "model = MultiLayerPerceptron(num_features, hidden_size1, hidden_size2, num_classes)"
   ]
  },
  {
   "cell_type": "code",
   "execution_count": 97,
   "id": "57c900a4-770d-4a59-a138-46489c8f9807",
   "metadata": {},
   "outputs": [],
   "source": [
    "loss_func = nn.BCEWithLogitsLoss() \n",
    "optimizer = torch.optim.Adam(model.parameters()) "
   ]
  },
  {
   "cell_type": "code",
   "execution_count": 98,
   "id": "90b5a29f-6f08-4b85-a0b1-838e719c4651",
   "metadata": {},
   "outputs": [],
   "source": [
    "dataloader = DataLoader(training_dataset, batch_size = batch_size, shuffle = True)"
   ]
  },
  {
   "cell_type": "code",
   "execution_count": 99,
   "id": "52d88e4d-dd3c-4e58-9b1b-5ca10a049a53",
   "metadata": {},
   "outputs": [
    {
     "name": "stdout",
     "output_type": "stream",
     "text": [
      "Epoch [10/100], Loss: 0.2130\n",
      "Epoch [20/100], Loss: 0.1224\n",
      "Epoch [30/100], Loss: 0.1305\n",
      "Epoch [40/100], Loss: 0.1569\n",
      "Epoch [50/100], Loss: 0.0911\n",
      "Epoch [60/100], Loss: 0.0997\n",
      "Epoch [70/100], Loss: 0.0762\n",
      "Epoch [80/100], Loss: 0.0601\n",
      "Epoch [90/100], Loss: 0.0649\n",
      "Epoch [100/100], Loss: 0.0839\n"
     ]
    }
   ],
   "source": [
    "loss_epochs = pd.DataFrame({'epoch': [], 'loss': []})\n",
    "for epoch in range(epochs): \n",
    "    model.train()\n",
    "    total_loss = 0\n",
    "    num_batches = 0\n",
    "\n",
    "    for batch_X, batch_y in dataloader:\n",
    "        #logits, outputs = model(batch_X)\n",
    "        #batch_X = batch_X.to(device)\n",
    "        #batch_y = batch_y.float().to(device)\n",
    "\n",
    "        outputs = model(batch_X)\n",
    "\n",
    "        outputs = outputs.squeeze()\n",
    "\n",
    "        batch_y = batch_y.float()\n",
    "\n",
    "        loss = loss_func(outputs, batch_y)\n",
    "\n",
    "        optimizer.zero_grad()\n",
    "        loss.backward()\n",
    "        optimizer.step()\n",
    "\n",
    "        total_loss += loss.item()\n",
    "        num_batches += 1\n",
    "\n",
    "        #scheduler.step()\n",
    "\n",
    "    epoch_avg_loss = total_loss / num_batches\n",
    "    new_row = {'epoch': epoch, 'loss': loss.item()}\n",
    "    loss_epochs = pd.concat([loss_epochs, pd.DataFrame([new_row])], ignore_index=True)\n",
    "    if (epoch + 1) % 10 == 0:\n",
    "        \n",
    "        print(f'Epoch [{epoch+1}/{epochs}], Loss: {loss.item():.4f}')"
   ]
  },
  {
   "cell_type": "code",
   "execution_count": 100,
   "id": "42d2f845-806b-4463-9af3-76d6f78e2238",
   "metadata": {},
   "outputs": [
    {
     "name": "stdout",
     "output_type": "stream",
     "text": [
      "tensor(0.0062)\n",
      "tensor(0.0119)\n",
      "tensor(0.0062)\n",
      "tensor(0.0100)\n",
      "tensor(0.0203)\n",
      "tensor(0.0190)\n"
     ]
    }
   ],
   "source": [
    "for param in model.parameters():\n",
    "    if param.grad is not None:\n",
    "        print(param.grad.abs().mean())"
   ]
  },
  {
   "cell_type": "code",
   "execution_count": 101,
   "id": "1eeca14e-936c-42ea-bddc-8cb821222f3e",
   "metadata": {},
   "outputs": [
    {
     "data": {
      "text/plain": [
       "[Text(0.5, 0, 'Number of Epochs'),\n",
       " Text(0, 0.5, 'Loss'),\n",
       " Text(0.5, 1.0, 'Loss Over 100 Epochs')]"
      ]
     },
     "execution_count": 101,
     "metadata": {},
     "output_type": "execute_result"
    },
    {
     "data": {
      "image/png": "[encoded data removed]",
      "text/plain": [
       "<Figure size 640x480 with 1 Axes>"
      ]
     },
     "metadata": {},
     "output_type": "display_data"
    }
   ],
   "source": [
    "ax2 = sns.lineplot(data = loss_epochs, x = 'epoch', y = 'loss')\n",
    "ax2.set(xlabel = \"Number of Epochs\", ylabel = \"Loss\", title = \"Loss Over 100 Epochs\")"
   ]
  },
  {
   "cell_type": "markdown",
   "id": "342828bb-9126-4a8c-80ba-992107341637",
   "metadata": {},
   "source": [
    "### Step 10: Testing Model Based on Trained Model"
   ]
  },
  {
   "cell_type": "code",
   "execution_count": 103,
   "id": "7a57504e-bc4d-4c9a-8bac-b195a9f991d5",
   "metadata": {},
   "outputs": [],
   "source": [
    "model.eval()\n",
    "outputs = model(X_test)\n",
    "outputs.squeeze()\n",
    "predicted_probs = torch.sigmoid(outputs)\n",
    "predicted_labels = (predicted_probs > 0.5).float()\n",
    "predicted_ys = predicted_labels.squeeze().long()"
   ]
  },
  {
   "cell_type": "code",
   "execution_count": 310,
   "id": "c94c2c30-e725-439f-b7c5-a8b1d6f33cdf",
   "metadata": {},
   "outputs": [
    {
     "data": {
      "text/plain": [
       "array(0.8619464, dtype=float32)"
      ]
     },
     "execution_count": 310,
     "metadata": {},
     "output_type": "execute_result"
    }
   ],
   "source": [
    "accuracy = sum(predicted_ys == y_test) / len(y_test)\n",
    "accuracy = accuracy.numpy()\n",
    "accuracy"
   ]
  },
  {
   "cell_type": "markdown",
   "id": "54e2f979-f436-4b5e-8dee-b266dd00256a",
   "metadata": {},
   "source": [
    "### Step 11: Visualization "
   ]
  },
  {
   "cell_type": "markdown",
   "id": "1cda3340-f9c7-4207-963f-edf1cc70c4ed",
   "metadata": {},
   "source": [
    "Finding true positive, true negative, false positive, false negative... 'republican': 0, 'democratic' : 1"
   ]
  },
  {
   "cell_type": "code",
   "execution_count": 107,
   "id": "4f3db6be-f852-40c9-b226-af1bb4d02df7",
   "metadata": {},
   "outputs": [],
   "source": [
    "conf_mat = confusion_matrix(y_test, predicted_ys)"
   ]
  },
  {
   "cell_type": "code",
   "execution_count": 108,
   "id": "537f3895-ffaf-4ee3-9af9-82af77c0cb9d",
   "metadata": {},
   "outputs": [
    {
     "data": {
      "text/plain": [
       "[Text(0.5, 23.52222222222222, 'Predicted'),\n",
       " Text(50.722222222222214, 0.5, 'Actual'),\n",
       " Text(0.5, 1.0, 'Confusion Matrix')]"
      ]
     },
     "execution_count": 108,
     "metadata": {},
     "output_type": "execute_result"
    },
    {
     "data": {
      "image/png": "[encoded data removed]",
      "text/plain": [
       "<Figure size 640x480 with 2 Axes>"
      ]
     },
     "metadata": {},
     "output_type": "display_data"
    }
   ],
   "source": [
    "conf_graph = sns.heatmap(conf_mat, annot = True, fmt = 'd', cmap = 'Blues')\n",
    "conf_graph.set(xlabel = \"Predicted\", \n",
    "               ylabel = \"Actual\", \n",
    "               title = \"Confusion Matrix\")"
   ]
  },
  {
   "cell_type": "code",
   "execution_count": 109,
   "id": "2865f034-6186-4c6a-b7b5-27aa27c407a2",
   "metadata": {},
   "outputs": [],
   "source": [
    "false_tens = (y_test != predicted_ys)\n",
    "indices_false = false_tens.nonzero()"
   ]
  },
  {
   "cell_type": "code",
   "execution_count": 110,
   "id": "79fa8dfd-bd4c-438d-924e-598685014e8d",
   "metadata": {},
   "outputs": [],
   "source": [
    "indices_false_list = indices_false.numpy().flatten().tolist()"
   ]
  },
  {
   "cell_type": "code",
   "execution_count": 111,
   "id": "7ffc4dba-afbf-4ef1-9004-3f363f2075ab",
   "metadata": {},
   "outputs": [],
   "source": [
    "test_index = tweets_all[tweets_all['split'] == 'test'].reset_index()\n",
    "incorrect_classified_tweets = test_index[test_index['index'].isin(indices_false_list)]"
   ]
  },
  {
   "cell_type": "code",
   "execution_count": 112,
   "id": "e4fade8b-a1b9-4216-ac2d-b109e70951cc",
   "metadata": {},
   "outputs": [
    {
     "data": {
      "text/plain": [
       "15.54701849696029"
      ]
     },
     "execution_count": 112,
     "metadata": {},
     "output_type": "execute_result"
    }
   ],
   "source": [
    "incorrect_classified_tweets['num_words'].mean()"
   ]
  },
  {
   "cell_type": "markdown",
   "id": "63e977e2-e69d-4d3a-a053-b6c8460081b6",
   "metadata": {},
   "source": [
    "Because split, predicted truth versus not at almost at the same ratio. "
   ]
  },
  {
   "cell_type": "markdown",
   "id": "270f0336-8570-46ce-9fb8-4569b99efe5b",
   "metadata": {},
   "source": [
    "### Step 12: Comparing to More Basic Models"
   ]
  },
  {
   "cell_type": "code",
   "execution_count": 115,
   "id": "9c7912bc-1367-45c5-99be-36df5d5ab690",
   "metadata": {},
   "outputs": [
    {
     "data": {
      "text/html": [
       "<style>#sk-container-id-1 {\n",
       "  /* Definition of color scheme common for light and dark mode */\n",
       "  --sklearn-color-text: black;\n",
       "  --sklearn-color-line: gray;\n",
       "  /* Definition of color scheme for unfitted estimators */\n",
       "  --sklearn-color-unfitted-level-0: #fff5e6;\n",
       "  --sklearn-color-unfitted-level-1: #f6e4d2;\n",
       "  --sklearn-color-unfitted-level-2: #ffe0b3;\n",
       "  --sklearn-color-unfitted-level-3: chocolate;\n",
       "  /* Definition of color scheme for fitted estimators */\n",
       "  --sklearn-color-fitted-level-0: #f0f8ff;\n",
       "  --sklearn-color-fitted-level-1: #d4ebff;\n",
       "  --sklearn-color-fitted-level-2: #b3dbfd;\n",
       "  --sklearn-color-fitted-level-3: cornflowerblue;\n",
       "\n",
       "  /* Specific color for light theme */\n",
       "  --sklearn-color-text-on-default-background: var(--sg-text-color, var(--theme-code-foreground, var(--jp-content-font-color1, black)));\n",
       "  --sklearn-color-background: var(--sg-background-color, var(--theme-background, var(--jp-layout-color0, white)));\n",
       "  --sklearn-color-border-box: var(--sg-text-color, var(--theme-code-foreground, var(--jp-content-font-color1, black)));\n",
       "  --sklearn-color-icon: #696969;\n",
       "\n",
       "  @media (prefers-color-scheme: dark) {\n",
       "    /* Redefinition of color scheme for dark theme */\n",
       "    --sklearn-color-text-on-default-background: var(--sg-text-color, var(--theme-code-foreground, var(--jp-content-font-color1, white)));\n",
       "    --sklearn-color-background: var(--sg-background-color, var(--theme-background, var(--jp-layout-color0, #111)));\n",
       "    --sklearn-color-border-box: var(--sg-text-color, var(--theme-code-foreground, var(--jp-content-font-color1, white)));\n",
       "    --sklearn-color-icon: #878787;\n",
       "  }\n",
       "}\n",
       "\n",
       "#sk-container-id-1 {\n",
       "  color: var(--sklearn-color-text);\n",
       "}\n",
       "\n",
       "#sk-container-id-1 pre {\n",
       "  padding: 0;\n",
       "}\n",
       "\n",
       "#sk-container-id-1 input.sk-hidden--visually {\n",
       "  border: 0;\n",
       "  clip: rect(1px 1px 1px 1px);\n",
       "  clip: rect(1px, 1px, 1px, 1px);\n",
       "  height: 1px;\n",
       "  margin: -1px;\n",
       "  overflow: hidden;\n",
       "  padding: 0;\n",
       "  position: absolute;\n",
       "  width: 1px;\n",
       "}\n",
       "\n",
       "#sk-container-id-1 div.sk-dashed-wrapped {\n",
       "  border: 1px dashed var(--sklearn-color-line);\n",
       "  margin: 0 0.4em 0.5em 0.4em;\n",
       "  box-sizing: border-box;\n",
       "  padding-bottom: 0.4em;\n",
       "  background-color: var(--sklearn-color-background);\n",
       "}\n",
       "\n",
       "#sk-container-id-1 div.sk-container {\n",
       "  /* jupyter's `normalize.less` sets `[hidden] { display: none; }`\n",
       "     but bootstrap.min.css set `[hidden] { display: none !important; }`\n",
       "     so we also need the `!important` here to be able to override the\n",
       "     default hidden behavior on the sphinx rendered scikit-learn.org.\n",
       "     See: https://github.com/scikit-learn/scikit-learn/issues/21755 */\n",
       "  display: inline-block !important;\n",
       "  position: relative;\n",
       "}\n",
       "\n",
       "#sk-container-id-1 div.sk-text-repr-fallback {\n",
       "  display: none;\n",
       "}\n",
       "\n",
       "div.sk-parallel-item,\n",
       "div.sk-serial,\n",
       "div.sk-item {\n",
       "  /* draw centered vertical line to link estimators */\n",
       "  background-image: linear-gradient(var(--sklearn-color-text-on-default-background), var(--sklearn-color-text-on-default-background));\n",
       "  background-size: 2px 100%;\n",
       "  background-repeat: no-repeat;\n",
       "  background-position: center center;\n",
       "}\n",
       "\n",
       "/* Parallel-specific style estimator block */\n",
       "\n",
       "#sk-container-id-1 div.sk-parallel-item::after {\n",
       "  content: \"\";\n",
       "  width: 100%;\n",
       "  border-bottom: 2px solid var(--sklearn-color-text-on-default-background);\n",
       "  flex-grow: 1;\n",
       "}\n",
       "\n",
       "#sk-container-id-1 div.sk-parallel {\n",
       "  display: flex;\n",
       "  align-items: stretch;\n",
       "  justify-content: center;\n",
       "  background-color: var(--sklearn-color-background);\n",
       "  position: relative;\n",
       "}\n",
       "\n",
       "#sk-container-id-1 div.sk-parallel-item {\n",
       "  display: flex;\n",
       "  flex-direction: column;\n",
       "}\n",
       "\n",
       "#sk-container-id-1 div.sk-parallel-item:first-child::after {\n",
       "  align-self: flex-end;\n",
       "  width: 50%;\n",
       "}\n",
       "\n",
       "#sk-container-id-1 div.sk-parallel-item:last-child::after {\n",
       "  align-self: flex-start;\n",
       "  width: 50%;\n",
       "}\n",
       "\n",
       "#sk-container-id-1 div.sk-parallel-item:only-child::after {\n",
       "  width: 0;\n",
       "}\n",
       "\n",
       "/* Serial-specific style estimator block */\n",
       "\n",
       "#sk-container-id-1 div.sk-serial {\n",
       "  display: flex;\n",
       "  flex-direction: column;\n",
       "  align-items: center;\n",
       "  background-color: var(--sklearn-color-background);\n",
       "  padding-right: 1em;\n",
       "  padding-left: 1em;\n",
       "}\n",
       "\n",
       "\n",
       "/* Toggleable style: style used for estimator/Pipeline/ColumnTransformer box that is\n",
       "clickable and can be expanded/collapsed.\n",
       "- Pipeline and ColumnTransformer use this feature and define the default style\n",
       "- Estimators will overwrite some part of the style using the `sk-estimator` class\n",
       "*/\n",
       "\n",
       "/* Pipeline and ColumnTransformer style (default) */\n",
       "\n",
       "#sk-container-id-1 div.sk-toggleable {\n",
       "  /* Default theme specific background. It is overwritten whether we have a\n",
       "  specific estimator or a Pipeline/ColumnTransformer */\n",
       "  background-color: var(--sklearn-color-background);\n",
       "}\n",
       "\n",
       "/* Toggleable label */\n",
       "#sk-container-id-1 label.sk-toggleable__label {\n",
       "  cursor: pointer;\n",
       "  display: block;\n",
       "  width: 100%;\n",
       "  margin-bottom: 0;\n",
       "  padding: 0.5em;\n",
       "  box-sizing: border-box;\n",
       "  text-align: center;\n",
       "}\n",
       "\n",
       "#sk-container-id-1 label.sk-toggleable__label-arrow:before {\n",
       "  /* Arrow on the left of the label */\n",
       "  content: \"▸\";\n",
       "  float: left;\n",
       "  margin-right: 0.25em;\n",
       "  color: var(--sklearn-color-icon);\n",
       "}\n",
       "\n",
       "#sk-container-id-1 label.sk-toggleable__label-arrow:hover:before {\n",
       "  color: var(--sklearn-color-text);\n",
       "}\n",
       "\n",
       "/* Toggleable content - dropdown */\n",
       "\n",
       "#sk-container-id-1 div.sk-toggleable__content {\n",
       "  max-height: 0;\n",
       "  max-width: 0;\n",
       "  overflow: hidden;\n",
       "  text-align: left;\n",
       "  /* unfitted */\n",
       "  background-color: var(--sklearn-color-unfitted-level-0);\n",
       "}\n",
       "\n",
       "#sk-container-id-1 div.sk-toggleable__content.fitted {\n",
       "  /* fitted */\n",
       "  background-color: var(--sklearn-color-fitted-level-0);\n",
       "}\n",
       "\n",
       "#sk-container-id-1 div.sk-toggleable__content pre {\n",
       "  margin: 0.2em;\n",
       "  border-radius: 0.25em;\n",
       "  color: var(--sklearn-color-text);\n",
       "  /* unfitted */\n",
       "  background-color: var(--sklearn-color-unfitted-level-0);\n",
       "}\n",
       "\n",
       "#sk-container-id-1 div.sk-toggleable__content.fitted pre {\n",
       "  /* unfitted */\n",
       "  background-color: var(--sklearn-color-fitted-level-0);\n",
       "}\n",
       "\n",
       "#sk-container-id-1 input.sk-toggleable__control:checked~div.sk-toggleable__content {\n",
       "  /* Expand drop-down */\n",
       "  max-height: 200px;\n",
       "  max-width: 100%;\n",
       "  overflow: auto;\n",
       "}\n",
       "\n",
       "#sk-container-id-1 input.sk-toggleable__control:checked~label.sk-toggleable__label-arrow:before {\n",
       "  content: \"▾\";\n",
       "}\n",
       "\n",
       "/* Pipeline/ColumnTransformer-specific style */\n",
       "\n",
       "#sk-container-id-1 div.sk-label input.sk-toggleable__control:checked~label.sk-toggleable__label {\n",
       "  color: var(--sklearn-color-text);\n",
       "  background-color: var(--sklearn-color-unfitted-level-2);\n",
       "}\n",
       "\n",
       "#sk-container-id-1 div.sk-label.fitted input.sk-toggleable__control:checked~label.sk-toggleable__label {\n",
       "  background-color: var(--sklearn-color-fitted-level-2);\n",
       "}\n",
       "\n",
       "/* Estimator-specific style */\n",
       "\n",
       "/* Colorize estimator box */\n",
       "#sk-container-id-1 div.sk-estimator input.sk-toggleable__control:checked~label.sk-toggleable__label {\n",
       "  /* unfitted */\n",
       "  background-color: var(--sklearn-color-unfitted-level-2);\n",
       "}\n",
       "\n",
       "#sk-container-id-1 div.sk-estimator.fitted input.sk-toggleable__control:checked~label.sk-toggleable__label {\n",
       "  /* fitted */\n",
       "  background-color: var(--sklearn-color-fitted-level-2);\n",
       "}\n",
       "\n",
       "#sk-container-id-1 div.sk-label label.sk-toggleable__label,\n",
       "#sk-container-id-1 div.sk-label label {\n",
       "  /* The background is the default theme color */\n",
       "  color: var(--sklearn-color-text-on-default-background);\n",
       "}\n",
       "\n",
       "/* On hover, darken the color of the background */\n",
       "#sk-container-id-1 div.sk-label:hover label.sk-toggleable__label {\n",
       "  color: var(--sklearn-color-text);\n",
       "  background-color: var(--sklearn-color-unfitted-level-2);\n",
       "}\n",
       "\n",
       "/* Label box, darken color on hover, fitted */\n",
       "#sk-container-id-1 div.sk-label.fitted:hover label.sk-toggleable__label.fitted {\n",
       "  color: var(--sklearn-color-text);\n",
       "  background-color: var(--sklearn-color-fitted-level-2);\n",
       "}\n",
       "\n",
       "/* Estimator label */\n",
       "\n",
       "#sk-container-id-1 div.sk-label label {\n",
       "  font-family: monospace;\n",
       "  font-weight: bold;\n",
       "  display: inline-block;\n",
       "  line-height: 1.2em;\n",
       "}\n",
       "\n",
       "#sk-container-id-1 div.sk-label-container {\n",
       "  text-align: center;\n",
       "}\n",
       "\n",
       "/* Estimator-specific */\n",
       "#sk-container-id-1 div.sk-estimator {\n",
       "  font-family: monospace;\n",
       "  border: 1px dotted var(--sklearn-color-border-box);\n",
       "  border-radius: 0.25em;\n",
       "  box-sizing: border-box;\n",
       "  margin-bottom: 0.5em;\n",
       "  /* unfitted */\n",
       "  background-color: var(--sklearn-color-unfitted-level-0);\n",
       "}\n",
       "\n",
       "#sk-container-id-1 div.sk-estimator.fitted {\n",
       "  /* fitted */\n",
       "  background-color: var(--sklearn-color-fitted-level-0);\n",
       "}\n",
       "\n",
       "/* on hover */\n",
       "#sk-container-id-1 div.sk-estimator:hover {\n",
       "  /* unfitted */\n",
       "  background-color: var(--sklearn-color-unfitted-level-2);\n",
       "}\n",
       "\n",
       "#sk-container-id-1 div.sk-estimator.fitted:hover {\n",
       "  /* fitted */\n",
       "  background-color: var(--sklearn-color-fitted-level-2);\n",
       "}\n",
       "\n",
       "/* Specification for estimator info (e.g. \"i\" and \"?\") */\n",
       "\n",
       "/* Common style for \"i\" and \"?\" */\n",
       "\n",
       ".sk-estimator-doc-link,\n",
       "a:link.sk-estimator-doc-link,\n",
       "a:visited.sk-estimator-doc-link {\n",
       "  float: right;\n",
       "  font-size: smaller;\n",
       "  line-height: 1em;\n",
       "  font-family: monospace;\n",
       "  background-color: var(--sklearn-color-background);\n",
       "  border-radius: 1em;\n",
       "  height: 1em;\n",
       "  width: 1em;\n",
       "  text-decoration: none !important;\n",
       "  margin-left: 1ex;\n",
       "  /* unfitted */\n",
       "  border: var(--sklearn-color-unfitted-level-1) 1pt solid;\n",
       "  color: var(--sklearn-color-unfitted-level-1);\n",
       "}\n",
       "\n",
       ".sk-estimator-doc-link.fitted,\n",
       "a:link.sk-estimator-doc-link.fitted,\n",
       "a:visited.sk-estimator-doc-link.fitted {\n",
       "  /* fitted */\n",
       "  border: var(--sklearn-color-fitted-level-1) 1pt solid;\n",
       "  color: var(--sklearn-color-fitted-level-1);\n",
       "}\n",
       "\n",
       "/* On hover */\n",
       "div.sk-estimator:hover .sk-estimator-doc-link:hover,\n",
       ".sk-estimator-doc-link:hover,\n",
       "div.sk-label-container:hover .sk-estimator-doc-link:hover,\n",
       ".sk-estimator-doc-link:hover {\n",
       "  /* unfitted */\n",
       "  background-color: var(--sklearn-color-unfitted-level-3);\n",
       "  color: var(--sklearn-color-background);\n",
       "  text-decoration: none;\n",
       "}\n",
       "\n",
       "div.sk-estimator.fitted:hover .sk-estimator-doc-link.fitted:hover,\n",
       ".sk-estimator-doc-link.fitted:hover,\n",
       "div.sk-label-container:hover .sk-estimator-doc-link.fitted:hover,\n",
       ".sk-estimator-doc-link.fitted:hover {\n",
       "  /* fitted */\n",
       "  background-color: var(--sklearn-color-fitted-level-3);\n",
       "  color: var(--sklearn-color-background);\n",
       "  text-decoration: none;\n",
       "}\n",
       "\n",
       "/* Span, style for the box shown on hovering the info icon */\n",
       ".sk-estimator-doc-link span {\n",
       "  display: none;\n",
       "  z-index: 9999;\n",
       "  position: relative;\n",
       "  font-weight: normal;\n",
       "  right: .2ex;\n",
       "  padding: .5ex;\n",
       "  margin: .5ex;\n",
       "  width: min-content;\n",
       "  min-width: 20ex;\n",
       "  max-width: 50ex;\n",
       "  color: var(--sklearn-color-text);\n",
       "  box-shadow: 2pt 2pt 4pt #999;\n",
       "  /* unfitted */\n",
       "  background: var(--sklearn-color-unfitted-level-0);\n",
       "  border: .5pt solid var(--sklearn-color-unfitted-level-3);\n",
       "}\n",
       "\n",
       ".sk-estimator-doc-link.fitted span {\n",
       "  /* fitted */\n",
       "  background: var(--sklearn-color-fitted-level-0);\n",
       "  border: var(--sklearn-color-fitted-level-3);\n",
       "}\n",
       "\n",
       ".sk-estimator-doc-link:hover span {\n",
       "  display: block;\n",
       "}\n",
       "\n",
       "/* \"?\"-specific style due to the `<a>` HTML tag */\n",
       "\n",
       "#sk-container-id-1 a.estimator_doc_link {\n",
       "  float: right;\n",
       "  font-size: 1rem;\n",
       "  line-height: 1em;\n",
       "  font-family: monospace;\n",
       "  background-color: var(--sklearn-color-background);\n",
       "  border-radius: 1rem;\n",
       "  height: 1rem;\n",
       "  width: 1rem;\n",
       "  text-decoration: none;\n",
       "  /* unfitted */\n",
       "  color: var(--sklearn-color-unfitted-level-1);\n",
       "  border: var(--sklearn-color-unfitted-level-1) 1pt solid;\n",
       "}\n",
       "\n",
       "#sk-container-id-1 a.estimator_doc_link.fitted {\n",
       "  /* fitted */\n",
       "  border: var(--sklearn-color-fitted-level-1) 1pt solid;\n",
       "  color: var(--sklearn-color-fitted-level-1);\n",
       "}\n",
       "\n",
       "/* On hover */\n",
       "#sk-container-id-1 a.estimator_doc_link:hover {\n",
       "  /* unfitted */\n",
       "  background-color: var(--sklearn-color-unfitted-level-3);\n",
       "  color: var(--sklearn-color-background);\n",
       "  text-decoration: none;\n",
       "}\n",
       "\n",
       "#sk-container-id-1 a.estimator_doc_link.fitted:hover {\n",
       "  /* fitted */\n",
       "  background-color: var(--sklearn-color-fitted-level-3);\n",
       "}\n",
       "</style><div id=\"sk-container-id-1\" class=\"sk-top-container\"><div class=\"sk-text-repr-fallback\"><pre>LogisticRegression()</pre><b>In a Jupyter environment, please rerun this cell to show the HTML representation or trust the notebook. <br />On GitHub, the HTML representation is unable to render, please try loading this page with nbviewer.org.</b></div><div class=\"sk-container\" hidden><div class=\"sk-item\"><div class=\"sk-estimator fitted sk-toggleable\"><input class=\"sk-toggleable__control sk-hidden--visually\" id=\"sk-estimator-id-1\" type=\"checkbox\" checked><label for=\"sk-estimator-id-1\" class=\"sk-toggleable__label fitted sk-toggleable__label-arrow fitted\">&nbsp;&nbsp;LogisticRegression<a class=\"sk-estimator-doc-link fitted\" rel=\"noreferrer\" target=\"_blank\" href=\"https://scikit-learn.org/1.4/modules/generated/sklearn.linear_model.LogisticRegression.html\">?<span>Documentation for LogisticRegression</span></a><span class=\"sk-estimator-doc-link fitted\">i<span>Fitted</span></span></label><div class=\"sk-toggleable__content fitted\"><pre>LogisticRegression()</pre></div> </div></div></div></div>"
      ],
      "text/plain": [
       "LogisticRegression()"
      ]
     },
     "execution_count": 115,
     "metadata": {},
     "output_type": "execute_result"
    }
   ],
   "source": [
    "logr = linear_model.LogisticRegression()\n",
    "logr.fit(X_train, y_train)"
   ]
  },
  {
   "cell_type": "code",
   "execution_count": 306,
   "id": "6d6a8cb2-5cf4-44cc-b865-f4fede295ab8",
   "metadata": {},
   "outputs": [
    {
     "data": {
      "text/plain": [
       "array(0.8041786, dtype=float32)"
      ]
     },
     "execution_count": 306,
     "metadata": {},
     "output_type": "execute_result"
    }
   ],
   "source": [
    "log_reg_preds = logr.predict(X_test)\n",
    "accuracyL = sum(log_reg_preds == y_test) / len(y_test)\n",
    "accuracyL = accuracyL.numpy()\n",
    "accuracyL"
   ]
  },
  {
   "cell_type": "markdown",
   "id": "b15301ca-eae1-4f11-a421-b341adc31edc",
   "metadata": {},
   "source": [
    "performs slightly worse than my model but only by like 5-6% "
   ]
  },
  {
   "cell_type": "markdown",
   "id": "820f0c55-32fa-4c21-9f95-e91ae0f358bc",
   "metadata": {},
   "source": [
    "### Extra Step: Show how you apply this to word vectors of different length and of different pooling methods "
   ]
  },
  {
   "cell_type": "markdown",
   "id": "950531cc-5dc2-457b-bd17-dde2bb4d1598",
   "metadata": {},
   "source": [
    "Note: This code can be condensed with a for loop for future investigation (however that is not implemented here because I tried with only a few different methods). I simply tested pooling using sums and maximums with vector lengths of 100, and then tried different vector lengths with mean pooling. "
   ]
  },
  {
   "cell_type": "markdown",
   "id": "5614a5e9-4d09-47a1-afc5-7a021f1b999f",
   "metadata": {},
   "source": [
    "First with different pooling methods "
   ]
  },
  {
   "cell_type": "markdown",
   "id": "33051fdc-f00a-4250-88c4-86ae17182447",
   "metadata": {},
   "source": [
    "Vector Sums (length 100) "
   ]
  },
  {
   "cell_type": "code",
   "execution_count": 120,
   "id": "dd9b8910-2339-4316-92c3-7be22e4826bc",
   "metadata": {},
   "outputs": [],
   "source": [
    "sum_word_vecs = tweets_all['sum_word_vec'].tolist()\n",
    "standardized_vecsS = scaler.fit_transform(sum_word_vecs)\n",
    "X_trainS = torch.tensor(standardized_vecsS[filtered_tweets_all['split'] == 'train'], dtype = torch.float32)\n",
    "y_trainS = torch.tensor(filtered_tweets_all[filtered_tweets_all['split'] == 'train']['label_coded'])\n",
    "training_datasetS = TensorDataset(X_trainS, y_trainS)\n",
    "X_testS = torch.tensor(standardized_vecsS[tweets_all['split'] == 'test'], dtype=torch.float32)\n",
    "y_testS = torch.tensor(tweets_all[tweets_all['split'] == 'test']['label_coded'])\n",
    "test_datasetS = TensorDataset(X_testS, y_testS)"
   ]
  },
  {
   "cell_type": "code",
   "execution_count": 121,
   "id": "98a88536-82e8-4556-9d58-d005b73cca5c",
   "metadata": {},
   "outputs": [],
   "source": [
    "modelS = MultiLayerPerceptron(num_features, hidden_size1, hidden_size2, num_classes)\n",
    "loss_funcS = nn.BCEWithLogitsLoss() \n",
    "optimizerS = torch.optim.Adam(modelS.parameters()) \n",
    "dataloaderS = DataLoader(training_datasetS, batch_size = batch_size, shuffle = True)"
   ]
  },
  {
   "cell_type": "code",
   "execution_count": 122,
   "id": "48ee6a2f-b9ee-48bd-bc6f-34776d99b97f",
   "metadata": {},
   "outputs": [],
   "source": [
    "#loss_epochs = pd.DataFrame({'epoch': [], 'loss': []})\n",
    "for epoch in range(epochs): \n",
    "    modelS.train()\n",
    "    total_loss = 0\n",
    "    num_batches = 0\n",
    "\n",
    "    for batch_X, batch_y in dataloaderS:\n",
    "        #logits, outputs = model(batch_X)\n",
    "        #batch_X = batch_X.to(device)\n",
    "        #batch_y = batch_y.float().to(device)\n",
    "\n",
    "        outputsS = modelS(batch_X)\n",
    "\n",
    "        outputsS = outputsS.squeeze()\n",
    "\n",
    "        batch_y = batch_y.float()\n",
    "\n",
    "        loss = loss_funcS(outputsS, batch_y)\n",
    "\n",
    "        optimizerS.zero_grad()\n",
    "        loss.backward()\n",
    "        optimizerS.step()\n",
    "\n",
    "        total_loss += loss.item()\n",
    "        num_batches += 1"
   ]
  },
  {
   "cell_type": "code",
   "execution_count": 304,
   "id": "bf8d1423-2d2f-495b-8019-880fa9afb1b7",
   "metadata": {},
   "outputs": [
    {
     "data": {
      "text/plain": [
       "array(0.8608214, dtype=float32)"
      ]
     },
     "execution_count": 304,
     "metadata": {},
     "output_type": "execute_result"
    }
   ],
   "source": [
    "modelS.eval()\n",
    "outputsS = modelS(X_testS)\n",
    "outputsS.squeeze()\n",
    "predicted_probsS = torch.sigmoid(outputsS)\n",
    "predicted_labelsS = (predicted_probsS > 0.5).float()\n",
    "predicted_ysS = predicted_labelsS.squeeze().long()\n",
    "\n",
    "accuracyS = sum(predicted_ysS == y_testS) / len(y_testS)\n",
    "accuracyS = accuracyS.numpy()\n",
    "accuracyS"
   ]
  },
  {
   "cell_type": "markdown",
   "id": "7f523480-1353-4f34-add2-baf4da15788a",
   "metadata": {},
   "source": [
    "Very similar performance to mean pooling! Mean pooling had an accuracy of 0.8619."
   ]
  },
  {
   "cell_type": "code",
   "execution_count": 302,
   "id": "4b5836c5-b233-4e26-8161-9350fd693d94",
   "metadata": {},
   "outputs": [
    {
     "data": {
      "text/plain": [
       "array(0.80471426, dtype=float32)"
      ]
     },
     "execution_count": 302,
     "metadata": {},
     "output_type": "execute_result"
    }
   ],
   "source": [
    "logrS = linear_model.LogisticRegression()\n",
    "logrS.fit(X_trainS, y_trainS)\n",
    "log_reg_predsS = logrS.predict(X_testS)\n",
    "accuracyLS = sum(log_reg_predsS == y_testS) / len(y_testS)\n",
    "\n",
    "accuracyLS = accuracyLS.numpy()\n",
    "accuracyLS"
   ]
  },
  {
   "cell_type": "markdown",
   "id": "0a6ffcdd-e6c1-4804-a4ee-9ccb532ce01f",
   "metadata": {},
   "source": [
    "Again very similar to mean pooling where the accuracy was 0.8042."
   ]
  },
  {
   "cell_type": "markdown",
   "id": "44bc0659-74bf-44cb-8276-31ef18d4403b",
   "metadata": {},
   "source": [
    "Vector Maxes (length 100)"
   ]
  },
  {
   "cell_type": "code",
   "execution_count": 204,
   "id": "7ffb0b18-194d-40cb-b152-00331c1c7d60",
   "metadata": {},
   "outputs": [],
   "source": [
    "max_word_vecs = tweets_all['max_word_vec'].tolist()\n",
    "standardized_vecsM = scaler.fit_transform(max_word_vecs)\n",
    "X_trainM = torch.tensor(standardized_vecsM[filtered_tweets_all['split'] == 'train'], dtype = torch.float32)\n",
    "y_trainM = torch.tensor(filtered_tweets_all[filtered_tweets_all['split'] == 'train']['label_coded'])\n",
    "training_datasetM = TensorDataset(X_trainM, y_trainM)\n",
    "X_testM = torch.tensor(standardized_vecsM[tweets_all['split'] == 'test'], dtype=torch.float32)\n",
    "y_testM = torch.tensor(tweets_all[tweets_all['split'] == 'test']['label_coded'])\n",
    "test_datasetM = TensorDataset(X_testM, y_testM)"
   ]
  },
  {
   "cell_type": "code",
   "execution_count": 206,
   "id": "bf1222e9-b45d-4621-b344-5eb963fee28b",
   "metadata": {},
   "outputs": [],
   "source": [
    "modelM = MultiLayerPerceptron(num_features, hidden_size1, hidden_size2, num_classes)\n",
    "loss_funcM = nn.BCEWithLogitsLoss() \n",
    "optimizerM = torch.optim.Adam(modelM.parameters()) \n",
    "dataloaderM = DataLoader(training_datasetM, batch_size = batch_size, shuffle = True)"
   ]
  },
  {
   "cell_type": "code",
   "execution_count": 208,
   "id": "dde53015-ed18-425b-9512-87f8439228e5",
   "metadata": {},
   "outputs": [],
   "source": [
    "for epoch in range(epochs): \n",
    "    modelM.train()\n",
    "    total_loss = 0\n",
    "    num_batches = 0\n",
    "\n",
    "    for batch_X, batch_y in dataloaderM:\n",
    "\n",
    "        outputsM = modelM(batch_X)\n",
    "\n",
    "        outputsM = outputsM.squeeze()\n",
    "\n",
    "        batch_y = batch_y.float()\n",
    "\n",
    "        loss = loss_funcM(outputsM, batch_y)\n",
    "\n",
    "        optimizerM.zero_grad()\n",
    "        loss.backward()\n",
    "        optimizerM.step()\n",
    "\n",
    "        total_loss += loss.item()\n",
    "        num_batches += 1"
   ]
  },
  {
   "cell_type": "code",
   "execution_count": 298,
   "id": "70aa90bc-72c7-48f9-a4d8-60d071a36bcd",
   "metadata": {},
   "outputs": [
    {
     "data": {
      "text/plain": [
       "array(0.7749643, dtype=float32)"
      ]
     },
     "execution_count": 298,
     "metadata": {},
     "output_type": "execute_result"
    }
   ],
   "source": [
    "modelM.eval()\n",
    "outputsM = modelM(X_testM)\n",
    "outputsM.squeeze()\n",
    "predicted_probsM = torch.sigmoid(outputsM)\n",
    "predicted_labelsM = (predicted_probsM > 0.5).float()\n",
    "predicted_ysM = predicted_labelsM.squeeze().long()\n",
    "\n",
    "accuracyM = sum(predicted_ysM == y_testM) / len(y_testM)\n",
    "accuracyM = accuracyM.numpy()\n",
    "accuracyM"
   ]
  },
  {
   "cell_type": "code",
   "execution_count": 300,
   "id": "65f1a871-82a2-4d08-afb3-7d1924eeba42",
   "metadata": {},
   "outputs": [
    {
     "data": {
      "text/plain": [
       "array(0.741625, dtype=float32)"
      ]
     },
     "execution_count": 300,
     "metadata": {},
     "output_type": "execute_result"
    }
   ],
   "source": [
    "logrM = linear_model.LogisticRegression()\n",
    "logrM.fit(X_trainM, y_trainM)\n",
    "log_reg_predsM = logrM.predict(X_testM)\n",
    "accuracyLM = sum(log_reg_predsM == y_testM) / len(y_testM)\n",
    "accuracyLM = accuracyLM.numpy()\n",
    "accuracyLM"
   ]
  },
  {
   "cell_type": "markdown",
   "id": "0942f445-9e96-4bcd-bd24-9a1c17e7024b",
   "metadata": {},
   "source": [
    "Logistic Regression and the more sophisicated MLP performed worse with max pooling than mean or sum pooling. One word vector may be dominating the maximum vector. "
   ]
  },
  {
   "cell_type": "markdown",
   "id": "bf9f138a-b93b-4e3b-a720-bc0bfbe83dfa",
   "metadata": {},
   "source": [
    "Creating word vectors of different lengths"
   ]
  },
  {
   "cell_type": "code",
   "execution_count": 220,
   "id": "0716f208-1e01-4398-8846-aede977cd622",
   "metadata": {},
   "outputs": [],
   "source": [
    "word_vecs50 = Word2Vec(tweets_all['tokens'], vector_size=50, window=5, min_count=1, workers=4)\n",
    "word_vecs200 = Word2Vec(tweets_all['tokens'], vector_size=200, window=5, min_count=1, workers=4)"
   ]
  },
  {
   "cell_type": "code",
   "execution_count": 222,
   "id": "d8b88726-22b7-401a-a4ec-b1d840d80257",
   "metadata": {},
   "outputs": [],
   "source": [
    "tweets_all['avg_word_vec50'] = tweets_all['tokens'].apply(lambda x: np.mean(word_vecs50.wv[x], axis = 0))\n",
    "tweets_all['avg_word_vec200'] = tweets_all['tokens'].apply(lambda x: np.mean(word_vecs200.wv[x], axis = 0))"
   ]
  },
  {
   "cell_type": "markdown",
   "id": "54834c9b-520f-4df3-9cff-e29f3b40751b",
   "metadata": {},
   "source": [
    "Mean Pooling (length 50)"
   ]
  },
  {
   "cell_type": "code",
   "execution_count": 226,
   "id": "b256a2a9-1c87-457a-bd34-e55364bb6df8",
   "metadata": {},
   "outputs": [],
   "source": [
    "word_vecs50 = tweets_all['avg_word_vec50'].tolist()\n",
    "standardized_vecs50 = scaler.fit_transform(word_vecs50)\n",
    "X_train50 = torch.tensor(standardized_vecs50[filtered_tweets_all['split'] == 'train'], dtype = torch.float32)\n",
    "y_train50 = torch.tensor(filtered_tweets_all[filtered_tweets_all['split'] == 'train']['label_coded'])\n",
    "training_dataset50 = TensorDataset(X_train50, y_train50)\n",
    "X_test50 = torch.tensor(standardized_vecs50[tweets_all['split'] == 'test'], dtype=torch.float32)\n",
    "y_test50 = torch.tensor(tweets_all[tweets_all['split'] == 'test']['label_coded'])\n",
    "test_dataset50 = TensorDataset(X_test50, y_test50)"
   ]
  },
  {
   "cell_type": "code",
   "execution_count": 234,
   "id": "71aaf139-bd1d-4374-9135-a481b13848d0",
   "metadata": {},
   "outputs": [],
   "source": [
    "num_features50 = 50\n",
    "model50 = MultiLayerPerceptron(num_features50, hidden_size1, hidden_size2, num_classes)\n",
    "loss_func50 = nn.BCEWithLogitsLoss() \n",
    "optimizer50 = torch.optim.Adam(model50.parameters()) \n",
    "dataloader50 = DataLoader(training_dataset50, batch_size = batch_size, shuffle = True)"
   ]
  },
  {
   "cell_type": "code",
   "execution_count": 236,
   "id": "def4a832-107e-4c5b-a510-36e47ec16a84",
   "metadata": {},
   "outputs": [],
   "source": [
    "for epoch in range(epochs): \n",
    "    model50.train()\n",
    "    total_loss = 0\n",
    "    num_batches = 0\n",
    "\n",
    "    for batch_X, batch_y in dataloader50:\n",
    "\n",
    "        outputs50 = model50(batch_X)\n",
    "\n",
    "        outputs50 = outputs50.squeeze()\n",
    "\n",
    "        batch_y = batch_y.float()\n",
    "\n",
    "        loss = loss_func50(outputs50, batch_y)\n",
    "\n",
    "        optimizer50.zero_grad()\n",
    "        loss.backward()\n",
    "        optimizer50.step()\n",
    "\n",
    "        total_loss += loss.item()\n",
    "        num_batches += 1"
   ]
  },
  {
   "cell_type": "code",
   "execution_count": 294,
   "id": "e24d9c20-59b7-46c2-8b55-7483da479ae8",
   "metadata": {},
   "outputs": [
    {
     "data": {
      "text/plain": [
       "array(0.8497857, dtype=float32)"
      ]
     },
     "execution_count": 294,
     "metadata": {},
     "output_type": "execute_result"
    }
   ],
   "source": [
    "model50.eval()\n",
    "outputs50 = model50(X_test50)\n",
    "outputs50.squeeze()\n",
    "predicted_probs50 = torch.sigmoid(outputs50)\n",
    "predicted_labels50 = (predicted_probs50 > 0.5).float()\n",
    "predicted_ys50 = predicted_labels50.squeeze().long()\n",
    "\n",
    "accuracy50 = sum(predicted_ys50 == y_test50) / len(y_test50)\n",
    "accuracy50 = accuracy50.numpy()\n",
    "accuracyL200"
   ]
  },
  {
   "cell_type": "code",
   "execution_count": 292,
   "id": "c690bce2-6076-489f-88d1-f13eb36ced6e",
   "metadata": {},
   "outputs": [
    {
     "data": {
      "text/plain": [
       "array(0.7925, dtype=float32)"
      ]
     },
     "execution_count": 292,
     "metadata": {},
     "output_type": "execute_result"
    }
   ],
   "source": [
    "logr50 = linear_model.LogisticRegression()\n",
    "logr50.fit(X_train50, y_train50)\n",
    "log_reg_preds50 = logr50.predict(X_test50)\n",
    "accuracyL50 = sum(log_reg_preds50 == y_test50) / len(y_test50)\n",
    "accuracyL50 = accuracyL50.numpy()\n",
    "accuracyL50"
   ]
  },
  {
   "cell_type": "markdown",
   "id": "41a5ed25-da9c-47be-ba24-c989cca2bcb7",
   "metadata": {},
   "source": [
    "Understandably a little less accurate than the vector of length 100 because theres less information captured!"
   ]
  },
  {
   "cell_type": "markdown",
   "id": "9b88d73f-8927-41b3-bc8b-ec0ac40b8d8c",
   "metadata": {},
   "source": [
    "Mean Pooling (length 200)"
   ]
  },
  {
   "cell_type": "code",
   "execution_count": 242,
   "id": "3aa05397-c39b-45e3-8146-55a1eba7b2e7",
   "metadata": {},
   "outputs": [],
   "source": [
    "word_vecs200 = tweets_all['avg_word_vec200'].tolist()\n",
    "standardized_vecs200 = scaler.fit_transform(word_vecs200)\n",
    "X_train200 = torch.tensor(standardized_vecs200[filtered_tweets_all['split'] == 'train'], dtype = torch.float32)\n",
    "y_train200 = torch.tensor(filtered_tweets_all[filtered_tweets_all['split'] == 'train']['label_coded'])\n",
    "training_dataset200 = TensorDataset(X_train200, y_train200)\n",
    "X_test200 = torch.tensor(standardized_vecs200[tweets_all['split'] == 'test'], dtype=torch.float32)\n",
    "y_test200 = torch.tensor(tweets_all[tweets_all['split'] == 'test']['label_coded'])\n",
    "test_dataset200 = TensorDataset(X_test200, y_test200)"
   ]
  },
  {
   "cell_type": "code",
   "execution_count": 244,
   "id": "78ca2183-d3f5-4205-9082-41913543b8e0",
   "metadata": {},
   "outputs": [],
   "source": [
    "num_features200 = 200\n",
    "model200 = MultiLayerPerceptron(num_features200, hidden_size1, hidden_size2, num_classes)\n",
    "loss_func200 = nn.BCEWithLogitsLoss() \n",
    "optimizer200 = torch.optim.Adam(model200.parameters()) \n",
    "dataloader200 = DataLoader(training_dataset200, batch_size = batch_size, shuffle = True)"
   ]
  },
  {
   "cell_type": "code",
   "execution_count": 246,
   "id": "c784fd18-28d3-46e7-871d-fea2772b2efd",
   "metadata": {},
   "outputs": [],
   "source": [
    "for epoch in range(epochs): \n",
    "    model200.train()\n",
    "    total_loss = 0\n",
    "    num_batches = 0\n",
    "\n",
    "    for batch_X, batch_y in dataloader200:\n",
    "\n",
    "        outputs200 = model200(batch_X)\n",
    "\n",
    "        outputs200 = outputs200.squeeze()\n",
    "\n",
    "        batch_y = batch_y.float()\n",
    "\n",
    "        loss = loss_func200(outputs200, batch_y)\n",
    "\n",
    "        optimizer200.zero_grad()\n",
    "        loss.backward()\n",
    "        optimizer200.step()\n",
    "\n",
    "        total_loss += loss.item()\n",
    "        num_batches += 1"
   ]
  },
  {
   "cell_type": "code",
   "execution_count": 284,
   "id": "1f3c792e-843d-4611-8296-e16f8a8ff6e3",
   "metadata": {},
   "outputs": [
    {
     "data": {
      "text/plain": [
       "array(0.8775, dtype=float32)"
      ]
     },
     "execution_count": 284,
     "metadata": {},
     "output_type": "execute_result"
    }
   ],
   "source": [
    "model200.eval()\n",
    "outputs200 = model200(X_test200)\n",
    "outputs200.squeeze()\n",
    "predicted_probs200 = torch.sigmoid(outputs200)\n",
    "predicted_labels200 = (predicted_probs200 > 0.5).float()\n",
    "predicted_ys200 = predicted_labels200.squeeze().long()\n",
    "\n",
    "accuracy200 = sum(predicted_ys200 == y_test200) / len(y_test200)\n",
    "accuracy200 = accuracy200.numpy()\n",
    "accuracy200"
   ]
  },
  {
   "cell_type": "code",
   "execution_count": 290,
   "id": "27cf8388-4b75-4d43-97bb-15f589a77af7",
   "metadata": {},
   "outputs": [
    {
     "data": {
      "text/plain": [
       "array(0.8497857, dtype=float32)"
      ]
     },
     "execution_count": 290,
     "metadata": {},
     "output_type": "execute_result"
    }
   ],
   "source": [
    "logr200 = linear_model.LogisticRegression()\n",
    "logr200.fit(X_train200, y_train200)\n",
    "log_reg_preds200 = logr200.predict(X_test200)\n",
    "accuracyL200 = sum(log_reg_preds200 == y_test200) / len(y_test200)\n",
    "accuracyL200 = accuracyL200.numpy()\n",
    "accuracyL200"
   ]
  },
  {
   "cell_type": "markdown",
   "id": "122c36ff-3609-4aab-bdf8-c922ce3e064c",
   "metadata": {},
   "source": [
    "Only performs slightly better than the vector of length 100 in the Multi-Layer Perceptron, but 4% better on the logistic regression. In future work, it would be interesting to see what is the optimal vector length level, the shortest possible vector that yields the most accuracy before plateauing (where the elbow of the graph is). "
   ]
  },
  {
   "cell_type": "code",
   "execution_count": 314,
   "id": "35168a8e-993f-47d8-954b-9490a4fe6617",
   "metadata": {},
   "outputs": [],
   "source": [
    "accuracy_df = pd.DataFrame({'Vector Length' : [100, 100, 100, 50, 200], \n",
    "             'Pooling Method' : ['Mean', 'Sum', 'Max', 'Mean', 'Mean'], \n",
    "             'Accuracy MLP' : [accuracy, accuracyS, accuracyM, accuracy50, accuracy200], \n",
    "             'Accuracy LR': [accuracyL, accuracyLS, accuracyLM, accuracyL50, accuracyL200]})"
   ]
  },
  {
   "cell_type": "code",
   "execution_count": 318,
   "id": "d118159f-345a-49e1-851b-a55ade8c24bd",
   "metadata": {},
   "outputs": [
    {
     "data": {
      "text/html": [
       "<div>\n",
       "<style scoped>\n",
       "    .dataframe tbody tr th:only-of-type {\n",
       "        vertical-align: middle;\n",
       "    }\n",
       "\n",
       "    .dataframe tbody tr th {\n",
       "        vertical-align: top;\n",
       "    }\n",
       "\n",
       "    .dataframe thead th {\n",
       "        text-align: right;\n",
       "    }\n",
       "</style>\n",
       "<table border=\"1\" class=\"dataframe\">\n",
       "  <thead>\n",
       "    <tr style=\"text-align: right;\">\n",
       "      <th></th>\n",
       "      <th>Vector Length</th>\n",
       "      <th>Pooling Method</th>\n",
       "      <th>Accuracy MLP</th>\n",
       "      <th>Accuracy LR</th>\n",
       "    </tr>\n",
       "  </thead>\n",
       "  <tbody>\n",
       "    <tr>\n",
       "      <th>0</th>\n",
       "      <td>100</td>\n",
       "      <td>Mean</td>\n",
       "      <td>0.8619464</td>\n",
       "      <td>0.8041786</td>\n",
       "    </tr>\n",
       "    <tr>\n",
       "      <th>1</th>\n",
       "      <td>100</td>\n",
       "      <td>Sum</td>\n",
       "      <td>0.8608214</td>\n",
       "      <td>0.80471426</td>\n",
       "    </tr>\n",
       "    <tr>\n",
       "      <th>2</th>\n",
       "      <td>100</td>\n",
       "      <td>Max</td>\n",
       "      <td>0.7749643</td>\n",
       "      <td>0.741625</td>\n",
       "    </tr>\n",
       "    <tr>\n",
       "      <th>3</th>\n",
       "      <td>50</td>\n",
       "      <td>Mean</td>\n",
       "      <td>0.843875</td>\n",
       "      <td>0.7925</td>\n",
       "    </tr>\n",
       "    <tr>\n",
       "      <th>4</th>\n",
       "      <td>200</td>\n",
       "      <td>Mean</td>\n",
       "      <td>0.8775</td>\n",
       "      <td>0.8497857</td>\n",
       "    </tr>\n",
       "  </tbody>\n",
       "</table>\n",
       "</div>"
      ],
      "text/plain": [
       "   Vector Length Pooling Method Accuracy MLP Accuracy LR\n",
       "0            100           Mean    0.8619464   0.8041786\n",
       "1            100            Sum    0.8608214  0.80471426\n",
       "2            100            Max    0.7749643    0.741625\n",
       "3             50           Mean     0.843875      0.7925\n",
       "4            200           Mean       0.8775   0.8497857"
      ]
     },
     "execution_count": 318,
     "metadata": {},
     "output_type": "execute_result"
    }
   ],
   "source": [
    "accuracy_df"
   ]
  },
  {
   "cell_type": "markdown",
   "id": "adf25366-9a51-48b0-b68a-f024aa074b74",
   "metadata": {},
   "source": [
    "The best performer is with a vector length of 200, mean pooling, and multi-layer perceptron model. The sum pooling method of similar vector length would probably perform similarly (since they did for the case of vector of length 100), yet it wasn't tested here."
   ]
  }
 ],
 "metadata": {
  "kernelspec": {
   "display_name": "Python 3 (ipykernel)",
   "language": "python",
   "name": "python3"
  },
  "language_info": {
   "codemirror_mode": {
    "name": "ipython",
    "version": 3
   },
   "file_extension": ".py",
   "mimetype": "text/x-python",
   "name": "python",
   "nbconvert_exporter": "python",
   "pygments_lexer": "ipython3",
   "version": "3.12.4"
  }
 },
 "nbformat": 4,
 "nbformat_minor": 5
}
